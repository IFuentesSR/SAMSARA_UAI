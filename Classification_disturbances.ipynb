{
  "nbformat": 4,
  "nbformat_minor": 0,
  "metadata": {
    "colab": {
      "provenance": [],
      "authorship_tag": "ABX9TyNpEVvMDiC/7FJzJwNnWlor",
      "include_colab_link": true
    },
    "kernelspec": {
      "name": "python3",
      "display_name": "Python 3"
    },
    "language_info": {
      "name": "python"
    }
  },
  "cells": [
    {
      "cell_type": "markdown",
      "metadata": {
        "id": "view-in-github",
        "colab_type": "text"
      },
      "source": [
        "<a href=\"https://colab.research.google.com/github/IFuentesSR/SAMSARA_UAI/blob/main/Classification_disturbances.ipynb\" target=\"_parent\"><img src=\"https://colab.research.google.com/assets/colab-badge.svg\" alt=\"Open In Colab\"/></a>"
      ]
    },
    {
      "cell_type": "markdown",
      "source": [
        "### Code for getting secondary classification and disentangling deforestation from other forest disturbances"
      ],
      "metadata": {
        "id": "3MNkaKK8li00"
      }
    },
    {
      "cell_type": "code",
      "execution_count": null,
      "metadata": {
        "id": "NkzqG86HTrEM"
      },
      "outputs": [],
      "source": [
        "# Import, authenticate and initialize the Earth Engine library.\n",
        "import ee\n",
        "ee.Authenticate()\n",
        "ee.Initialize(project='your_project') #use your credentials"
      ]
    },
    {
      "cell_type": "code",
      "source": [
        "import numpy as np\n",
        "import folium"
      ],
      "metadata": {
        "id": "oTG0qVxei895"
      },
      "execution_count": null,
      "outputs": []
    },
    {
      "cell_type": "code",
      "source": [
        "tree = 150"
      ],
      "metadata": {
        "id": "WjBcODWls_BJ"
      },
      "execution_count": null,
      "outputs": []
    },
    {
      "cell_type": "code",
      "source": [
        "def to_year(img):\n",
        "    year2000 = 730485\n",
        "    year = img.subtract(year2000).divide(365)\n",
        "    return ee.Image(2000).add(ee.Image(year))\n",
        "\n",
        "\n",
        "def to_day(img):\n",
        "    year = img.subtract(2016).multiply(365)\n",
        "    return year\n"
      ],
      "metadata": {
        "id": "YIFXvG9FtCil"
      },
      "execution_count": null,
      "outputs": []
    },
    {
      "cell_type": "markdown",
      "source": [
        "#### Defining inputs for classification"
      ],
      "metadata": {
        "id": "ISy599VQlUtX"
      }
    },
    {
      "cell_type": "code",
      "source": [
        "'''import your input images saved, here I used those that I saved'''\n",
        "\n",
        "s1 = ee.Image('users/ignisfausto/rvi_iqr')\n",
        "dem = ee.Image(\"MERIT/DEM/v1_0_3\")\n",
        "LC = ee.Image(\"users/ignaciofuentessanroman/LC_CHILE_2014_b\")\n",
        "mask = LC.gt(210).And(LC.lt(300)).Or(LC.gt(400).And(LC.lt(460)))\n",
        "\n",
        "mag1 = ee.Image('users/ignisfausto/ccdc_magnitude_001083_095')\n",
        "mag2 = ee.Image('users/ignisfausto/ccdc_magnitude_001084_095')\n",
        "mag3 = ee.Image('users/ignisfausto/ccdc_magnitude_001085_095')\n",
        "mag4 = ee.Image('users/ignisfausto/ccdc_magnitude_233083_095')\n",
        "mag5 = ee.Image('users/ignisfausto/ccdc_magnitude_233084_095')\n",
        "mag6 = ee.Image('users/ignisfausto/ccdc_magnitude_233085_095')\n",
        "magMosaic = ee.ImageCollection([mag1, mag2, mag3, mag4, mag5, mag6]).mosaic()\n",
        "\n",
        "bks1 = ee.Image('users/ignisfausto/ccdc_tStart_001083_095')\n",
        "bks2 = ee.Image('users/ignisfausto/ccdc_tStart_001084_095')\n",
        "bks3 = ee.Image('users/ignisfausto/ccdc_tStart_001085_095')\n",
        "bks4 = ee.Image('users/ignisfausto/ccdc_tStart_233083_095')\n",
        "bks5 = ee.Image('users/ignisfausto/ccdc_tStart_233084_095')\n",
        "bks6 = ee.Image('users/ignisfausto/ccdc_tStart_233085_095')\n",
        "bksMosaic = ee.ImageCollection([bks1, bks2, bks3, bks4, bks5, bks6]).mosaic()\n",
        "\n",
        "glcm = ee.Image('users/ignaciofuentessanroman/ccdc_glcm_mgs_30_7_2')\n",
        "bks_sdev = ee.Image('users/ignaciofuentessanroman/bks50_in_ccdc2').select('first_stdDev')\n",
        "mgs_sdev = ee.Image('users/ignaciofuentessanroman/mgs50_in_ccdc2').select('first_stdDev')\n",
        "\n",
        "regions = ee.FeatureCollection('users/ignisfausto/regions5_7')"
      ],
      "metadata": {
        "id": "QOo5sYPanXor"
      },
      "execution_count": null,
      "outputs": []
    },
    {
      "cell_type": "code",
      "source": [
        "bksMosaic = to_year(bksMosaic)\n",
        "mask = bksMosaic.gte(2016)\n",
        "bksMosaic = bksMosaic.updateMask(mask)\n",
        "\n",
        "mask2 = magMosaic.lt(0)\n",
        "mask2 = ee.Image(0).addBands(mask2.select([0,1,2,3]))\n",
        "\n",
        "bksMosaic = bksMosaic.updateMask(mask).updateMask(mask2)\n",
        "bksMosaic = bksMosaic.select([1,2,3,4])\n",
        "magMosaic = magMosaic.updateMask(mask.select([1,2,3,4]).addBands(ee.Image(0))).updateMask(mask2.select([1,2,3,4]).addBands(ee.Image(0)))\n",
        "\n",
        "bksMosaic2 = bksMosaic.reduce(ee.Reducer.firstNonNull())\n",
        "magMosaic2 = magMosaic.reduce(ee.Reducer.firstNonNull())"
      ],
      "metadata": {
        "id": "buIf6MBStx6h"
      },
      "execution_count": null,
      "outputs": []
    },
    {
      "cell_type": "markdown",
      "source": [
        "##### Visualisation of dates and magnitudes of changes"
      ],
      "metadata": {
        "id": "OucMZRTZImsF"
      }
    },
    {
      "cell_type": "code",
      "source": [
        "bks_img = bksMosaic2.clip(regions).getMapId({'min': 2016, 'max': 2022.5, 'palette':'FF0000, FFFF00, 00FF00, 00FFFF, 0000FF'})\n",
        "mgs_img = magMosaic2.clip(regions).getMapId({'min': -1, 'max': 1, 'palette':'FF0000, FFFFFF, 0000FF'})\n",
        "centroid = regions.geometry().centroid().coordinates().getInfo()[::-1]\n",
        "map = folium.Map(location=centroid, zoom_start=6)\n",
        "folium.TileLayer(\n",
        "    tiles = 'https://server.arcgisonline.com/ArcGIS/rest/services/World_Imagery/MapServer/tile/{z}/{y}/{x}',\n",
        "    attr='Map Data &copy; <a href=\"https://earthengine.google.com/\">Google Earth Engine</a>',\n",
        "    overlay=True,\n",
        "    name='satellite',\n",
        "  ).add_to(map)\n",
        "folium.TileLayer(\n",
        "    tiles=bks_img['tile_fetcher'].url_format,\n",
        "    attr='Map Data &copy; <a href=\"https://earthengine.google.com/\">Google Earth Engine</a>',\n",
        "    overlay=True,\n",
        "    name='break_dates',\n",
        "  ).add_to(map)\n",
        "folium.TileLayer(\n",
        "    tiles=mgs_img['tile_fetcher'].url_format,\n",
        "    attr='Map Data &copy; <a href=\"https://earthengine.google.com/\">Google Earth Engine</a>',\n",
        "    overlay=True,\n",
        "    name='break_magnitudes',\n",
        "  ).add_to(map)\n",
        "\n",
        "map.add_child(folium.LayerControl())\n",
        "map"
      ],
      "metadata": {
        "colab": {
          "base_uri": "https://localhost:8080/",
          "height": 395
        },
        "id": "w-YaVvnb4y6L",
        "outputId": "a41de97b-f1a8-4a48-e569-2caf993c24ee"
      },
      "execution_count": null,
      "outputs": [
        {
          "output_type": "execute_result",
          "data": {
            "text/plain": [
              "<folium.folium.Map at 0x7febf0d12380>"
            ],
            "text/html": [
              "<div style=\"width:100%;\"><div style=\"position:relative;width:100%;height:0;padding-bottom:60%;\"><span style=\"color:#565656\">Make this Notebook Trusted to load map: File -> Trust Notebook</span><iframe srcdoc=\"&lt;!DOCTYPE html&gt;\n",
              "&lt;html&gt;\n",
              "&lt;head&gt;\n",
              "    \n",
              "    &lt;meta http-equiv=&quot;content-type&quot; content=&quot;text/html; charset=UTF-8&quot; /&gt;\n",
              "    \n",
              "        &lt;script&gt;\n",
              "            L_NO_TOUCH = false;\n",
              "            L_DISABLE_3D = false;\n",
              "        &lt;/script&gt;\n",
              "    \n",
              "    &lt;style&gt;html, body {width: 100%;height: 100%;margin: 0;padding: 0;}&lt;/style&gt;\n",
              "    &lt;style&gt;#map {position:absolute;top:0;bottom:0;right:0;left:0;}&lt;/style&gt;\n",
              "    &lt;script src=&quot;https://cdn.jsdelivr.net/npm/leaflet@1.9.3/dist/leaflet.js&quot;&gt;&lt;/script&gt;\n",
              "    &lt;script src=&quot;https://code.jquery.com/jquery-1.12.4.min.js&quot;&gt;&lt;/script&gt;\n",
              "    &lt;script src=&quot;https://cdn.jsdelivr.net/npm/bootstrap@5.2.2/dist/js/bootstrap.bundle.min.js&quot;&gt;&lt;/script&gt;\n",
              "    &lt;script src=&quot;https://cdnjs.cloudflare.com/ajax/libs/Leaflet.awesome-markers/2.0.2/leaflet.awesome-markers.js&quot;&gt;&lt;/script&gt;\n",
              "    &lt;link rel=&quot;stylesheet&quot; href=&quot;https://cdn.jsdelivr.net/npm/leaflet@1.9.3/dist/leaflet.css&quot;/&gt;\n",
              "    &lt;link rel=&quot;stylesheet&quot; href=&quot;https://cdn.jsdelivr.net/npm/bootstrap@5.2.2/dist/css/bootstrap.min.css&quot;/&gt;\n",
              "    &lt;link rel=&quot;stylesheet&quot; href=&quot;https://netdna.bootstrapcdn.com/bootstrap/3.0.0/css/bootstrap.min.css&quot;/&gt;\n",
              "    &lt;link rel=&quot;stylesheet&quot; href=&quot;https://cdn.jsdelivr.net/npm/@fortawesome/fontawesome-free@6.2.0/css/all.min.css&quot;/&gt;\n",
              "    &lt;link rel=&quot;stylesheet&quot; href=&quot;https://cdnjs.cloudflare.com/ajax/libs/Leaflet.awesome-markers/2.0.2/leaflet.awesome-markers.css&quot;/&gt;\n",
              "    &lt;link rel=&quot;stylesheet&quot; href=&quot;https://cdn.jsdelivr.net/gh/python-visualization/folium/folium/templates/leaflet.awesome.rotate.min.css&quot;/&gt;\n",
              "    \n",
              "            &lt;meta name=&quot;viewport&quot; content=&quot;width=device-width,\n",
              "                initial-scale=1.0, maximum-scale=1.0, user-scalable=no&quot; /&gt;\n",
              "            &lt;style&gt;\n",
              "                #map_3bb2e6016c4a72b85b6756509439bec1 {\n",
              "                    position: relative;\n",
              "                    width: 100.0%;\n",
              "                    height: 100.0%;\n",
              "                    left: 0.0%;\n",
              "                    top: 0.0%;\n",
              "                }\n",
              "                .leaflet-container { font-size: 1rem; }\n",
              "            &lt;/style&gt;\n",
              "        \n",
              "&lt;/head&gt;\n",
              "&lt;body&gt;\n",
              "    \n",
              "    \n",
              "            &lt;div class=&quot;folium-map&quot; id=&quot;map_3bb2e6016c4a72b85b6756509439bec1&quot; &gt;&lt;/div&gt;\n",
              "        \n",
              "&lt;/body&gt;\n",
              "&lt;script&gt;\n",
              "    \n",
              "    \n",
              "            var map_3bb2e6016c4a72b85b6756509439bec1 = L.map(\n",
              "                &quot;map_3bb2e6016c4a72b85b6756509439bec1&quot;,\n",
              "                {\n",
              "                    center: [-34.39294108579279, -71.09678309402395],\n",
              "                    crs: L.CRS.EPSG3857,\n",
              "                    zoom: 6,\n",
              "                    zoomControl: true,\n",
              "                    preferCanvas: false,\n",
              "                }\n",
              "            );\n",
              "\n",
              "            \n",
              "\n",
              "        \n",
              "    \n",
              "            var tile_layer_efe47b5baa2ce3d7605be709f5dae88a = L.tileLayer(\n",
              "                &quot;https://{s}.tile.openstreetmap.org/{z}/{x}/{y}.png&quot;,\n",
              "                {&quot;attribution&quot;: &quot;Data by \\u0026copy; \\u003ca target=\\&quot;_blank\\&quot; href=\\&quot;http://openstreetmap.org\\&quot;\\u003eOpenStreetMap\\u003c/a\\u003e, under \\u003ca target=\\&quot;_blank\\&quot; href=\\&quot;http://www.openstreetmap.org/copyright\\&quot;\\u003eODbL\\u003c/a\\u003e.&quot;, &quot;detectRetina&quot;: false, &quot;maxNativeZoom&quot;: 18, &quot;maxZoom&quot;: 18, &quot;minZoom&quot;: 0, &quot;noWrap&quot;: false, &quot;opacity&quot;: 1, &quot;subdomains&quot;: &quot;abc&quot;, &quot;tms&quot;: false}\n",
              "            ).addTo(map_3bb2e6016c4a72b85b6756509439bec1);\n",
              "        \n",
              "    \n",
              "            var tile_layer_2bcfc2552918184cad020f493b7eac2c = L.tileLayer(\n",
              "                &quot;https://server.arcgisonline.com/ArcGIS/rest/services/World_Imagery/MapServer/tile/{z}/{y}/{x}&quot;,\n",
              "                {&quot;attribution&quot;: &quot;Map Data \\u0026copy; \\u003ca href=\\&quot;https://earthengine.google.com/\\&quot;\\u003eGoogle Earth Engine\\u003c/a\\u003e&quot;, &quot;detectRetina&quot;: false, &quot;maxNativeZoom&quot;: 18, &quot;maxZoom&quot;: 18, &quot;minZoom&quot;: 0, &quot;noWrap&quot;: false, &quot;opacity&quot;: 1, &quot;subdomains&quot;: &quot;abc&quot;, &quot;tms&quot;: false}\n",
              "            ).addTo(map_3bb2e6016c4a72b85b6756509439bec1);\n",
              "        \n",
              "    \n",
              "            var tile_layer_a04975b2c456716c3947503a0c6de733 = L.tileLayer(\n",
              "                &quot;https://earthengine.googleapis.com/v1/projects/intrepid-charge-305912/maps/44767dcc8e7f78f461f841582d55ba69-8ba34bd38d8debe3d010052c028d4f50/tiles/{z}/{x}/{y}&quot;,\n",
              "                {&quot;attribution&quot;: &quot;Map Data \\u0026copy; \\u003ca href=\\&quot;https://earthengine.google.com/\\&quot;\\u003eGoogle Earth Engine\\u003c/a\\u003e&quot;, &quot;detectRetina&quot;: false, &quot;maxNativeZoom&quot;: 18, &quot;maxZoom&quot;: 18, &quot;minZoom&quot;: 0, &quot;noWrap&quot;: false, &quot;opacity&quot;: 1, &quot;subdomains&quot;: &quot;abc&quot;, &quot;tms&quot;: false}\n",
              "            ).addTo(map_3bb2e6016c4a72b85b6756509439bec1);\n",
              "        \n",
              "    \n",
              "            var tile_layer_d3fce9030dcdfebfd4187872bafe3237 = L.tileLayer(\n",
              "                &quot;https://earthengine.googleapis.com/v1/projects/intrepid-charge-305912/maps/fa033dae6fececfa76ebbfb71cc35f7d-118a3306e653e7b0667395297f63f1b9/tiles/{z}/{x}/{y}&quot;,\n",
              "                {&quot;attribution&quot;: &quot;Map Data \\u0026copy; \\u003ca href=\\&quot;https://earthengine.google.com/\\&quot;\\u003eGoogle Earth Engine\\u003c/a\\u003e&quot;, &quot;detectRetina&quot;: false, &quot;maxNativeZoom&quot;: 18, &quot;maxZoom&quot;: 18, &quot;minZoom&quot;: 0, &quot;noWrap&quot;: false, &quot;opacity&quot;: 1, &quot;subdomains&quot;: &quot;abc&quot;, &quot;tms&quot;: false}\n",
              "            ).addTo(map_3bb2e6016c4a72b85b6756509439bec1);\n",
              "        \n",
              "    \n",
              "            var layer_control_0693521beee71bd00949e6900f5c4e1b = {\n",
              "                base_layers : {\n",
              "                    &quot;openstreetmap&quot; : tile_layer_efe47b5baa2ce3d7605be709f5dae88a,\n",
              "                },\n",
              "                overlays :  {\n",
              "                    &quot;satellite&quot; : tile_layer_2bcfc2552918184cad020f493b7eac2c,\n",
              "                    &quot;break_dates&quot; : tile_layer_a04975b2c456716c3947503a0c6de733,\n",
              "                    &quot;break_magnitudes&quot; : tile_layer_d3fce9030dcdfebfd4187872bafe3237,\n",
              "                },\n",
              "            };\n",
              "            L.control.layers(\n",
              "                layer_control_0693521beee71bd00949e6900f5c4e1b.base_layers,\n",
              "                layer_control_0693521beee71bd00949e6900f5c4e1b.overlays,\n",
              "                {&quot;autoZIndex&quot;: true, &quot;collapsed&quot;: true, &quot;position&quot;: &quot;topright&quot;}\n",
              "            ).addTo(map_3bb2e6016c4a72b85b6756509439bec1);\n",
              "        \n",
              "&lt;/script&gt;\n",
              "&lt;/html&gt;\" style=\"position:absolute;width:100%;height:100%;left:0;top:0;border:none !important;\" allowfullscreen webkitallowfullscreen mozallowfullscreen></iframe></div></div>"
            ]
          },
          "metadata": {},
          "execution_count": 25
        }
      ]
    },
    {
      "cell_type": "markdown",
      "source": [
        "#### Ground truth collection for model training and validation"
      ],
      "metadata": {
        "id": "S_LDG7YQk_RX"
      }
    },
    {
      "cell_type": "code",
      "source": [
        "poly = ee.FeatureCollection(\"users/ignaciofuentessanroman/PolValConsolidadosBosquePlantacion\")\n",
        "poly2 = poly.filter(ee.Filter.Or(ee.Filter.gte('ID', 370), ee.Filter.lte('ID',328)))"
      ],
      "metadata": {
        "id": "ER63gSfntyFG"
      },
      "execution_count": null,
      "outputs": []
    },
    {
      "cell_type": "code",
      "source": [
        "fires = ee.Geometry.MultiPolygon(\n",
        "    [[[[-71.53702009863046, -33.110794276712355],\n",
        "       [-71.5365051144996, -33.11180077494024],\n",
        "       [-71.53538931554941, -33.1120164516317],\n",
        "       [-71.53444517797617, -33.10971587295818],\n",
        "       [-71.53641928381113, -33.11007534234702]]],\n",
        "     [[[-71.59924734777597, -33.132287696217126],\n",
        "       [-71.59744490331796, -33.133437697468054],\n",
        "       [-71.59684408849863, -33.13185644186388],\n",
        "       [-71.59856070226816, -33.13085017346732],\n",
        "       [-71.60027731603769, -33.13041891205213],\n",
        "       [-71.60027731603769, -33.13178456593237]]],\n",
        "     [[[-71.58165205663828, -33.13386894405297],\n",
        "       [-71.58027876562265, -33.13473143086677],\n",
        "       [-71.57907713598398, -33.13329394813561],\n",
        "       [-71.57967795080332, -33.13092205016389],\n",
        "       [-71.58130873388437, -33.13257519794227]]],\n",
        "     [[[-71.53410185522226, -33.16020690514725],\n",
        "       [-71.53461683935312, -33.15855427791913],\n",
        "       [-71.53564680761484, -33.15848242385489],\n",
        "       [-71.53654802984384, -33.16009912605998],\n",
        "       [-71.53611887640146, -33.16232653360874],\n",
        "       [-71.53538931554941, -33.16365576599389],\n",
        "       [-71.5330289716163, -33.16494905383778],\n",
        "       [-71.53238524145273, -33.16455388457613],\n",
        "       [-71.53114069646982, -33.163727615819035],\n",
        "       [-71.53187025732187, -33.160709872469546],\n",
        "       [-71.53405893987802, -33.15873391282216],\n",
        "       [-71.53362978643564, -33.16088950295693]]]])\n",
        "\n",
        "\n",
        "### set of polygon IDs needed or wrongly classified by Andrés\n",
        "non_fires = [374, 375, 376, 393, 394, 406, 424]\n",
        "\n",
        "non_stable = [81, 83]\n",
        "\n",
        "non_defo = [85, 90, 113, 115, 116, 117, 118, 119, 128,\n",
        "            130, 138, 237, 236, 235, 232, 230, 127, 114, 87]\n",
        "\n",
        "stable_list = [85, 90, 113, 115, 116, 117, 118, 119,\n",
        "               130, 237, 236, 235, 232, 230, 114]\n",
        "\n",
        "defo_list = [330, 334, 349, 348, 351, 353, 354, 358, 362,\n",
        "             369, 366, 347, 367, 365, 364, 349, 348, 359,\n",
        "             357, 356, 355, 350]\n"
      ],
      "metadata": {
        "id": "Z_fmV7-Gugh6"
      },
      "execution_count": null,
      "outputs": []
    },
    {
      "cell_type": "code",
      "source": [
        "def set_fire(f):\n",
        "    return f.set('change', 0)\n",
        "\n",
        "def set_drought(f):\n",
        "    return f.set('change', 0)\n",
        "\n",
        "def set_stable(f):\n",
        "    return f.set('change', 0)\n",
        "\n",
        "def set_defo(f):\n",
        "    return f.set('change', 1)\n",
        "\n",
        "def set_id(f):\n",
        "    return f.set('id', f.id())\n",
        "\n",
        "\n",
        "fire = poly2.filter(ee.Filter.gte('ID', 370)).merge(fires).filter(ee.Filter.inList('ID', non_fires).Not())\n",
        "fire = fire.map(set_fire)\n",
        "\n",
        "drought = poly2.filter(ee.Filter.And(ee.Filter.gte('ID', 238), ee.Filter.lte('ID', 328)))\n",
        "drought = drought.map(set_drought)\n",
        "\n",
        "stable = poly2.filter(ee.Filter.eq('NAME', 'estable')).filter(ee.Filter.inList('ID', non_stable).Not())\n",
        "stable2 = poly.filter(ee.Filter.inList('ID', stable_list))\n",
        "stable = stable.merge(stable2).map(set_stable)\n",
        "\n",
        "defo = poly2.filter(ee.Filter.eq('NAME', 'tala')).filter(ee.Filter.inList('ID', non_defo).Not())\n",
        "defo2 = poly.filter(ee.Filter.inList('ID', defo_list))\n",
        "defo = defo.merge(defo2).map(set_defo)\n",
        "\n",
        "collection = fire.merge(drought).merge(stable).merge(defo).map(set_id)"
      ],
      "metadata": {
        "id": "5IEpPRFjuQGg"
      },
      "execution_count": null,
      "outputs": []
    },
    {
      "cell_type": "markdown",
      "source": [
        "#### Setting training image for model"
      ],
      "metadata": {
        "id": "w-cKvF5Ukz--"
      }
    },
    {
      "cell_type": "code",
      "source": [
        "glcm_bands = ['first_asm', 'first_contrast', 'first_idm', 'first_ent', 'first_savg']\n",
        "\n",
        "glcm_in = ee.ImageCollection([ee.Image(ee.List.repeat(-999, len(glcm_bands)).getInfo()).toFloat().rename(glcm_bands),\n",
        "                              glcm.select(glcm_bands)]).mosaic()\n",
        "\n",
        "mgs_dev_in = ee.ImageCollection([ee.Image([-999]).toFloat().rename(['mgs_dev']),\n",
        "                                 mgs_sdev.rename(['mgs_dev'])]).mosaic()\n",
        "\n",
        "\n",
        "\n",
        "bks_dev_in = ee.ImageCollection([ee.Image([-999]).toFloat().rename(['bks_dev']),\n",
        "                                 bks_sdev.rename(['bks_dev'])]).mosaic()\n",
        "\n",
        "\n",
        "\n",
        "inputImg = magMosaic2.select(0).addBands(glcm_in).addBands(mgs_dev_in).addBands(bks_dev_in) \\\n",
        "    .addBands(dem).addBands(ee.Terrain.slope(dem)).addBands(s1.select(['iqr','rvi_p25','rvi_p75']))\n",
        "\n",
        "classBands = inputImg.bandNames()"
      ],
      "metadata": {
        "id": "Hk-AUeOPvLkd"
      },
      "execution_count": null,
      "outputs": []
    },
    {
      "cell_type": "markdown",
      "source": [
        "#### 10-Fold cross validation on polygons"
      ],
      "metadata": {
        "id": "JNsV3K66j1-6"
      }
    },
    {
      "cell_type": "code",
      "source": [
        "collection = collection.randomColumn(seed=3)\n",
        "values = ee.List.sequence(0, 0.9, 0.1)"
      ],
      "metadata": {
        "id": "gMENftvnfB_I"
      },
      "execution_count": null,
      "outputs": []
    },
    {
      "cell_type": "code",
      "source": [
        "def classification(c, p):\n",
        "    val0 = ee.Number(c)\n",
        "    val1 = val0.add(0.2)\n",
        "    train = collection.filter(ee.Filter.Or(ee.Filter.lte('random', val0), ee.Filter.gt('random', val1)))\n",
        "    vali = collection.filter(ee.Filter.And(ee.Filter.gt('random', val0), ee.Filter.lte('random', val1)))\n",
        "    sample_train = inputImg.sampleRegions(collection=train,\n",
        "                                          properties=['change'],\n",
        "                                          scale=30,\n",
        "                                          geometries=True)\n",
        "\n",
        "    sample_vali = inputImg.sampleRegions(collection=vali,\n",
        "                                         properties=['change'],\n",
        "                                         scale=30,\n",
        "                                         geometries=True)\n",
        "\n",
        "    classifier = ee.Classifier.smileRandomForest(tree)\n",
        "    trainedRF = classifier.train(sample_train, 'change', classBands)\n",
        "    trainCM = trainedRF.confusionMatrix()\n",
        "    validationDS = sample_vali.classify(trainedRF)\n",
        "    validationCM = validationDS.errorMatrix('change', 'classification')\n",
        "    classified = inputImg.classify(trainedRF)\n",
        "    return ee.List(p).add(ee.List([trainCM.accuracy(), trainCM.kappa(), trainCM.fscore(), trainCM.consumersAccuracy(), trainCM.producersAccuracy(),\n",
        "                               validationCM.accuracy(), validationCM.kappa(), validationCM.fscore(), validationCM.consumersAccuracy(), validationCM.producersAccuracy(),\n",
        "                               classified]))\n",
        "\n",
        "\n",
        "iter = values.iterate(classification, ee.List([])).getInfo()"
      ],
      "metadata": {
        "id": "b2wUfXjbgm3K"
      },
      "execution_count": null,
      "outputs": []
    },
    {
      "cell_type": "code",
      "source": [
        "kappa_validation = [n[6] for n in iter]\n",
        "accuracy_validation = [n[5] for n in iter]\n",
        "print(np.mean(kappa_validation), np.mean(accuracy_validation))"
      ],
      "metadata": {
        "colab": {
          "base_uri": "https://localhost:8080/"
        },
        "id": "1JVdBiwJisRd",
        "outputId": "4f3d2c3a-7f1b-4f4e-ca3d-0082cacbf2c3"
      },
      "execution_count": null,
      "outputs": [
        {
          "output_type": "stream",
          "name": "stdout",
          "text": [
            "0.8674033907988603 0.9429803275225372\n"
          ]
        }
      ]
    },
    {
      "cell_type": "markdown",
      "source": [
        "##### Visualisation of deforestation"
      ],
      "metadata": {
        "id": "stcgzi64Hyze"
      }
    },
    {
      "cell_type": "code",
      "source": [
        "classBands = inputImg.bandNames()\n",
        "classifier = ee.Classifier.smileRandomForest(tree)\n",
        "sample_train = inputImg.sampleRegions(collection=collection,\n",
        "                                          properties=['change'],\n",
        "                                          scale=30,\n",
        "                                          geometries=True)\n",
        "trainedRF = classifier.train(sample_train, 'change', classBands)\n",
        "classified_img = inputImg.classify(trainedRF)"
      ],
      "metadata": {
        "id": "56ifQIHq2OpM"
      },
      "execution_count": null,
      "outputs": []
    },
    {
      "cell_type": "code",
      "source": [
        "classified_img2 = ee.Image(0).where(classified_img.eq(1), classified_img).multiply(mask)\n",
        "mapid_img = classified_img2.focal_mean(2).updateMask(classified_img2).getMapId({'min': 0, 'max': 1, 'palette':'FFFFFF, FF0000'})\n",
        "centroid = collection.geometry().centroid().coordinates().getInfo()[::-1]\n",
        "map = folium.Map(location=centroid, zoom_start=6)\n",
        "folium.TileLayer(\n",
        "    tiles = 'https://server.arcgisonline.com/ArcGIS/rest/services/World_Imagery/MapServer/tile/{z}/{y}/{x}',\n",
        "    attr='Map Data &copy; <a href=\"https://earthengine.google.com/\">Google Earth Engine</a>',\n",
        "    overlay=True,\n",
        "    name='satellite',\n",
        "  ).add_to(map)\n",
        "folium.TileLayer(\n",
        "    tiles=mapid_img['tile_fetcher'].url_format,\n",
        "    attr='Map Data &copy; <a href=\"https://earthengine.google.com/\">Google Earth Engine</a>',\n",
        "    overlay=True,\n",
        "    name='defo',\n",
        "  ).add_to(map)\n",
        "\n",
        "map.add_child(folium.LayerControl())\n",
        "map"
      ],
      "metadata": {
        "colab": {
          "base_uri": "https://localhost:8080/",
          "height": 395
        },
        "id": "1u6PeunT1eo1",
        "outputId": "bfa0bc02-1760-4c3c-98cf-47aec9429310"
      },
      "execution_count": null,
      "outputs": [
        {
          "output_type": "execute_result",
          "data": {
            "text/plain": [
              "<folium.folium.Map at 0x7fec21f058a0>"
            ],
            "text/html": [
              "<div style=\"width:100%;\"><div style=\"position:relative;width:100%;height:0;padding-bottom:60%;\"><span style=\"color:#565656\">Make this Notebook Trusted to load map: File -> Trust Notebook</span><iframe srcdoc=\"&lt;!DOCTYPE html&gt;\n",
              "&lt;html&gt;\n",
              "&lt;head&gt;\n",
              "    \n",
              "    &lt;meta http-equiv=&quot;content-type&quot; content=&quot;text/html; charset=UTF-8&quot; /&gt;\n",
              "    \n",
              "        &lt;script&gt;\n",
              "            L_NO_TOUCH = false;\n",
              "            L_DISABLE_3D = false;\n",
              "        &lt;/script&gt;\n",
              "    \n",
              "    &lt;style&gt;html, body {width: 100%;height: 100%;margin: 0;padding: 0;}&lt;/style&gt;\n",
              "    &lt;style&gt;#map {position:absolute;top:0;bottom:0;right:0;left:0;}&lt;/style&gt;\n",
              "    &lt;script src=&quot;https://cdn.jsdelivr.net/npm/leaflet@1.9.3/dist/leaflet.js&quot;&gt;&lt;/script&gt;\n",
              "    &lt;script src=&quot;https://code.jquery.com/jquery-1.12.4.min.js&quot;&gt;&lt;/script&gt;\n",
              "    &lt;script src=&quot;https://cdn.jsdelivr.net/npm/bootstrap@5.2.2/dist/js/bootstrap.bundle.min.js&quot;&gt;&lt;/script&gt;\n",
              "    &lt;script src=&quot;https://cdnjs.cloudflare.com/ajax/libs/Leaflet.awesome-markers/2.0.2/leaflet.awesome-markers.js&quot;&gt;&lt;/script&gt;\n",
              "    &lt;link rel=&quot;stylesheet&quot; href=&quot;https://cdn.jsdelivr.net/npm/leaflet@1.9.3/dist/leaflet.css&quot;/&gt;\n",
              "    &lt;link rel=&quot;stylesheet&quot; href=&quot;https://cdn.jsdelivr.net/npm/bootstrap@5.2.2/dist/css/bootstrap.min.css&quot;/&gt;\n",
              "    &lt;link rel=&quot;stylesheet&quot; href=&quot;https://netdna.bootstrapcdn.com/bootstrap/3.0.0/css/bootstrap.min.css&quot;/&gt;\n",
              "    &lt;link rel=&quot;stylesheet&quot; href=&quot;https://cdn.jsdelivr.net/npm/@fortawesome/fontawesome-free@6.2.0/css/all.min.css&quot;/&gt;\n",
              "    &lt;link rel=&quot;stylesheet&quot; href=&quot;https://cdnjs.cloudflare.com/ajax/libs/Leaflet.awesome-markers/2.0.2/leaflet.awesome-markers.css&quot;/&gt;\n",
              "    &lt;link rel=&quot;stylesheet&quot; href=&quot;https://cdn.jsdelivr.net/gh/python-visualization/folium/folium/templates/leaflet.awesome.rotate.min.css&quot;/&gt;\n",
              "    \n",
              "            &lt;meta name=&quot;viewport&quot; content=&quot;width=device-width,\n",
              "                initial-scale=1.0, maximum-scale=1.0, user-scalable=no&quot; /&gt;\n",
              "            &lt;style&gt;\n",
              "                #map_4ace9f7de969cda340f428048af4ad49 {\n",
              "                    position: relative;\n",
              "                    width: 100.0%;\n",
              "                    height: 100.0%;\n",
              "                    left: 0.0%;\n",
              "                    top: 0.0%;\n",
              "                }\n",
              "                .leaflet-container { font-size: 1rem; }\n",
              "            &lt;/style&gt;\n",
              "        \n",
              "&lt;/head&gt;\n",
              "&lt;body&gt;\n",
              "    \n",
              "    \n",
              "            &lt;div class=&quot;folium-map&quot; id=&quot;map_4ace9f7de969cda340f428048af4ad49&quot; &gt;&lt;/div&gt;\n",
              "        \n",
              "&lt;/body&gt;\n",
              "&lt;script&gt;\n",
              "    \n",
              "    \n",
              "            var map_4ace9f7de969cda340f428048af4ad49 = L.map(\n",
              "                &quot;map_4ace9f7de969cda340f428048af4ad49&quot;,\n",
              "                {\n",
              "                    center: [-34.02177876165348, -71.28631245807647],\n",
              "                    crs: L.CRS.EPSG3857,\n",
              "                    zoom: 6,\n",
              "                    zoomControl: true,\n",
              "                    preferCanvas: false,\n",
              "                }\n",
              "            );\n",
              "\n",
              "            \n",
              "\n",
              "        \n",
              "    \n",
              "            var tile_layer_54698f601d4678f528ec01be56da3a6b = L.tileLayer(\n",
              "                &quot;https://{s}.tile.openstreetmap.org/{z}/{x}/{y}.png&quot;,\n",
              "                {&quot;attribution&quot;: &quot;Data by \\u0026copy; \\u003ca target=\\&quot;_blank\\&quot; href=\\&quot;http://openstreetmap.org\\&quot;\\u003eOpenStreetMap\\u003c/a\\u003e, under \\u003ca target=\\&quot;_blank\\&quot; href=\\&quot;http://www.openstreetmap.org/copyright\\&quot;\\u003eODbL\\u003c/a\\u003e.&quot;, &quot;detectRetina&quot;: false, &quot;maxNativeZoom&quot;: 18, &quot;maxZoom&quot;: 18, &quot;minZoom&quot;: 0, &quot;noWrap&quot;: false, &quot;opacity&quot;: 1, &quot;subdomains&quot;: &quot;abc&quot;, &quot;tms&quot;: false}\n",
              "            ).addTo(map_4ace9f7de969cda340f428048af4ad49);\n",
              "        \n",
              "    \n",
              "            var tile_layer_a54b8569d131d290035e4920da12aadd = L.tileLayer(\n",
              "                &quot;https://server.arcgisonline.com/ArcGIS/rest/services/World_Imagery/MapServer/tile/{z}/{y}/{x}&quot;,\n",
              "                {&quot;attribution&quot;: &quot;Map Data \\u0026copy; \\u003ca href=\\&quot;https://earthengine.google.com/\\&quot;\\u003eGoogle Earth Engine\\u003c/a\\u003e&quot;, &quot;detectRetina&quot;: false, &quot;maxNativeZoom&quot;: 18, &quot;maxZoom&quot;: 18, &quot;minZoom&quot;: 0, &quot;noWrap&quot;: false, &quot;opacity&quot;: 1, &quot;subdomains&quot;: &quot;abc&quot;, &quot;tms&quot;: false}\n",
              "            ).addTo(map_4ace9f7de969cda340f428048af4ad49);\n",
              "        \n",
              "    \n",
              "            var tile_layer_46c5a53b29f3b44567f4ad4ec71bddb3 = L.tileLayer(\n",
              "                &quot;https://earthengine.googleapis.com/v1/projects/intrepid-charge-305912/maps/d2b57e187e7f7d07f3c1e030b2515048-0fc99bcf8b6a13c4519cb671dd0debcc/tiles/{z}/{x}/{y}&quot;,\n",
              "                {&quot;attribution&quot;: &quot;Map Data \\u0026copy; \\u003ca href=\\&quot;https://earthengine.google.com/\\&quot;\\u003eGoogle Earth Engine\\u003c/a\\u003e&quot;, &quot;detectRetina&quot;: false, &quot;maxNativeZoom&quot;: 18, &quot;maxZoom&quot;: 18, &quot;minZoom&quot;: 0, &quot;noWrap&quot;: false, &quot;opacity&quot;: 1, &quot;subdomains&quot;: &quot;abc&quot;, &quot;tms&quot;: false}\n",
              "            ).addTo(map_4ace9f7de969cda340f428048af4ad49);\n",
              "        \n",
              "    \n",
              "            var layer_control_5faa94a3e62bd71d9d09f3a6974b3367 = {\n",
              "                base_layers : {\n",
              "                    &quot;openstreetmap&quot; : tile_layer_54698f601d4678f528ec01be56da3a6b,\n",
              "                },\n",
              "                overlays :  {\n",
              "                    &quot;satellite&quot; : tile_layer_a54b8569d131d290035e4920da12aadd,\n",
              "                    &quot;defo&quot; : tile_layer_46c5a53b29f3b44567f4ad4ec71bddb3,\n",
              "                },\n",
              "            };\n",
              "            L.control.layers(\n",
              "                layer_control_5faa94a3e62bd71d9d09f3a6974b3367.base_layers,\n",
              "                layer_control_5faa94a3e62bd71d9d09f3a6974b3367.overlays,\n",
              "                {&quot;autoZIndex&quot;: true, &quot;collapsed&quot;: true, &quot;position&quot;: &quot;topright&quot;}\n",
              "            ).addTo(map_4ace9f7de969cda340f428048af4ad49);\n",
              "        \n",
              "&lt;/script&gt;\n",
              "&lt;/html&gt;\" style=\"position:absolute;width:100%;height:100%;left:0;top:0;border:none !important;\" allowfullscreen webkitallowfullscreen mozallowfullscreen></iframe></div></div>"
            ]
          },
          "metadata": {},
          "execution_count": 20
        }
      ]
    },
    {
      "cell_type": "markdown",
      "source": [
        "#### Classification including other classes (drought, fires)"
      ],
      "metadata": {
        "id": "wlwK80NiGo_7"
      }
    },
    {
      "cell_type": "markdown",
      "source": [
        "##### Setting polygons"
      ],
      "metadata": {
        "id": "sYdBMJuOHOn3"
      }
    },
    {
      "cell_type": "code",
      "source": [
        "def set_fire(f):\n",
        "    return f.set('change', 2)\n",
        "\n",
        "def set_drought(f):\n",
        "    return f.set('change', 3)\n",
        "\n",
        "def set_stable(f):\n",
        "    return f.set('change', 0)\n",
        "\n",
        "def set_defo(f):\n",
        "    return f.set('change', 1)\n",
        "\n",
        "def set_id(f):\n",
        "    return f.set('id', f.id())\n",
        "\n",
        "\n",
        "fire2 = poly2.filter(ee.Filter.gte('ID', 370)).merge(fires).filter(ee.Filter.inList('ID', non_fires).Not())\n",
        "fire2 = fire2.map(set_fire)\n",
        "\n",
        "drought2 = poly2.filter(ee.Filter.And(ee.Filter.gte('ID', 238), ee.Filter.lte('ID', 328)))\n",
        "drought2 = drought2.map(set_drought)\n",
        "\n",
        "stable3 = poly2.filter(ee.Filter.eq('NAME', 'estable')).filter(ee.Filter.inList('ID', non_stable).Not())\n",
        "stable4 = poly.filter(ee.Filter.inList('ID', stable_list))\n",
        "stable2 = stable3.merge(stable4).map(set_stable)\n",
        "\n",
        "defo3 = poly2.filter(ee.Filter.eq('NAME', 'tala')).filter(ee.Filter.inList('ID', non_defo).Not())\n",
        "defo4 = poly.filter(ee.Filter.inList('ID', defo_list))\n",
        "defo2 = defo3.merge(defo4).map(set_defo)\n",
        "\n",
        "collection2 = fire2.merge(drought2).merge(stable2).merge(defo2).map(set_id).randomColumn(seed=3)"
      ],
      "metadata": {
        "id": "sXIsBAD747RQ"
      },
      "execution_count": null,
      "outputs": []
    },
    {
      "cell_type": "markdown",
      "source": [
        "##### Classification and cross validation"
      ],
      "metadata": {
        "id": "ZkeTLXE2HYng"
      }
    },
    {
      "cell_type": "code",
      "source": [
        "def classification(c, p):\n",
        "    val0 = ee.Number(c)\n",
        "    val1 = val0.add(0.2)\n",
        "    train = collection2.filter(ee.Filter.Or(ee.Filter.lte('random', val0), ee.Filter.gt('random', val1)))\n",
        "    vali = collection2.filter(ee.Filter.And(ee.Filter.gt('random', val0), ee.Filter.lte('random', val1)))\n",
        "    sample_train = inputImg.sampleRegions(collection=train,\n",
        "                                          properties=['change'],\n",
        "                                          scale=30,\n",
        "                                          geometries=True)\n",
        "\n",
        "    sample_vali = inputImg.sampleRegions(collection=vali,\n",
        "                                         properties=['change'],\n",
        "                                         scale=30,\n",
        "                                         geometries=True)\n",
        "\n",
        "    classifier = ee.Classifier.smileRandomForest(tree)\n",
        "    trainedRF = classifier.train(sample_train, 'change', classBands)\n",
        "    trainCM = trainedRF.confusionMatrix()\n",
        "    validationDS = sample_vali.classify(trainedRF)\n",
        "    validationCM = validationDS.errorMatrix('change', 'classification')\n",
        "    classified = inputImg.classify(trainedRF)\n",
        "    return ee.List(p).add(ee.List([trainCM.accuracy(), trainCM.kappa(), trainCM.fscore(), trainCM.consumersAccuracy(), trainCM.producersAccuracy(),\n",
        "                               validationCM.accuracy(), validationCM.kappa(), validationCM.fscore(), validationCM.consumersAccuracy(), validationCM.producersAccuracy(),\n",
        "                               classified]))\n",
        "\n",
        "\n",
        "iter2 = values.iterate(classification, ee.List([])).getInfo()"
      ],
      "metadata": {
        "id": "kp6t_orx_RDi"
      },
      "execution_count": null,
      "outputs": []
    },
    {
      "cell_type": "code",
      "source": [
        "kappa_validation = [n[6] for n in iter2]\n",
        "accuracy_validation = [n[5] for n in iter2]\n",
        "print(np.mean(kappa_validation), np.mean(accuracy_validation))"
      ],
      "metadata": {
        "colab": {
          "base_uri": "https://localhost:8080/"
        },
        "id": "Q6EM8Fu7A6iH",
        "outputId": "8f7bd8a4-aa76-4783-ef31-c5ce8f182816"
      },
      "execution_count": null,
      "outputs": [
        {
          "output_type": "stream",
          "name": "stdout",
          "text": [
            "0.8343669743755436 0.8911333603359127\n"
          ]
        }
      ]
    },
    {
      "cell_type": "markdown",
      "source": [
        "##### Visualisation"
      ],
      "metadata": {
        "id": "48wki2eJHpJ6"
      }
    },
    {
      "cell_type": "code",
      "source": [
        "classBands = inputImg.bandNames()\n",
        "classifier = ee.Classifier.smileRandomForest(tree)\n",
        "sample_train = inputImg.sampleRegions(collection=collection2,\n",
        "                                      properties=['change'],\n",
        "                                      scale=30,\n",
        "                                      geometries=True)\n",
        "trainedRF = classifier.train(sample_train, 'change', classBands)\n",
        "classified_img = inputImg.classify(trainedRF)"
      ],
      "metadata": {
        "id": "UG2QYSoq_hYk"
      },
      "execution_count": null,
      "outputs": []
    },
    {
      "cell_type": "code",
      "source": [
        "classified_img2 = ee.Image(0).where(classified_img.gt(0), classified_img).multiply(mask)\n",
        "mapid_img = classified_img2.focal_mode(2).updateMask(classified_img2.gt(0)).getMapId({'min': 0, 'max': 3, 'palette':['00FF00', 'cc0013', 'cdb33b', '00FF00']})\n",
        "centroid = collection.geometry().centroid().coordinates().getInfo()[::-1]\n",
        "map = folium.Map(location=centroid, zoom_start=6)\n",
        "folium.TileLayer(\n",
        "    tiles = 'https://server.arcgisonline.com/ArcGIS/rest/services/World_Imagery/MapServer/tile/{z}/{y}/{x}',\n",
        "    attr='Map Data &copy; <a href=\"https://earthengine.google.com/\">Google Earth Engine</a>',\n",
        "    overlay=True,\n",
        "    name='satellite',\n",
        "  ).add_to(map)\n",
        "folium.TileLayer(\n",
        "    tiles=mapid_img['tile_fetcher'].url_format,\n",
        "    attr='Map Data &copy; <a href=\"https://earthengine.google.com/\">Google Earth Engine</a>',\n",
        "    overlay=True,\n",
        "    name='defo',\n",
        "  ).add_to(map)\n",
        "\n",
        "map.add_child(folium.LayerControl())\n",
        "map"
      ],
      "metadata": {
        "colab": {
          "base_uri": "https://localhost:8080/",
          "height": 626
        },
        "id": "1EUFEWi9BhjO",
        "outputId": "3464582f-de43-4dcf-a314-322ae4ccf734"
      },
      "execution_count": 44,
      "outputs": [
        {
          "output_type": "execute_result",
          "data": {
            "text/plain": [
              "<folium.folium.Map at 0x7febf0ce83d0>"
            ],
            "text/html": [
              "<div style=\"width:100%;\"><div style=\"position:relative;width:100%;height:0;padding-bottom:60%;\"><span style=\"color:#565656\">Make this Notebook Trusted to load map: File -> Trust Notebook</span><iframe srcdoc=\"&lt;!DOCTYPE html&gt;\n",
              "&lt;html&gt;\n",
              "&lt;head&gt;\n",
              "    \n",
              "    &lt;meta http-equiv=&quot;content-type&quot; content=&quot;text/html; charset=UTF-8&quot; /&gt;\n",
              "    \n",
              "        &lt;script&gt;\n",
              "            L_NO_TOUCH = false;\n",
              "            L_DISABLE_3D = false;\n",
              "        &lt;/script&gt;\n",
              "    \n",
              "    &lt;style&gt;html, body {width: 100%;height: 100%;margin: 0;padding: 0;}&lt;/style&gt;\n",
              "    &lt;style&gt;#map {position:absolute;top:0;bottom:0;right:0;left:0;}&lt;/style&gt;\n",
              "    &lt;script src=&quot;https://cdn.jsdelivr.net/npm/leaflet@1.9.3/dist/leaflet.js&quot;&gt;&lt;/script&gt;\n",
              "    &lt;script src=&quot;https://code.jquery.com/jquery-1.12.4.min.js&quot;&gt;&lt;/script&gt;\n",
              "    &lt;script src=&quot;https://cdn.jsdelivr.net/npm/bootstrap@5.2.2/dist/js/bootstrap.bundle.min.js&quot;&gt;&lt;/script&gt;\n",
              "    &lt;script src=&quot;https://cdnjs.cloudflare.com/ajax/libs/Leaflet.awesome-markers/2.0.2/leaflet.awesome-markers.js&quot;&gt;&lt;/script&gt;\n",
              "    &lt;link rel=&quot;stylesheet&quot; href=&quot;https://cdn.jsdelivr.net/npm/leaflet@1.9.3/dist/leaflet.css&quot;/&gt;\n",
              "    &lt;link rel=&quot;stylesheet&quot; href=&quot;https://cdn.jsdelivr.net/npm/bootstrap@5.2.2/dist/css/bootstrap.min.css&quot;/&gt;\n",
              "    &lt;link rel=&quot;stylesheet&quot; href=&quot;https://netdna.bootstrapcdn.com/bootstrap/3.0.0/css/bootstrap.min.css&quot;/&gt;\n",
              "    &lt;link rel=&quot;stylesheet&quot; href=&quot;https://cdn.jsdelivr.net/npm/@fortawesome/fontawesome-free@6.2.0/css/all.min.css&quot;/&gt;\n",
              "    &lt;link rel=&quot;stylesheet&quot; href=&quot;https://cdnjs.cloudflare.com/ajax/libs/Leaflet.awesome-markers/2.0.2/leaflet.awesome-markers.css&quot;/&gt;\n",
              "    &lt;link rel=&quot;stylesheet&quot; href=&quot;https://cdn.jsdelivr.net/gh/python-visualization/folium/folium/templates/leaflet.awesome.rotate.min.css&quot;/&gt;\n",
              "    \n",
              "            &lt;meta name=&quot;viewport&quot; content=&quot;width=device-width,\n",
              "                initial-scale=1.0, maximum-scale=1.0, user-scalable=no&quot; /&gt;\n",
              "            &lt;style&gt;\n",
              "                #map_ed8825ee300da6778f11c7bac8d5dbf0 {\n",
              "                    position: relative;\n",
              "                    width: 100.0%;\n",
              "                    height: 100.0%;\n",
              "                    left: 0.0%;\n",
              "                    top: 0.0%;\n",
              "                }\n",
              "                .leaflet-container { font-size: 1rem; }\n",
              "            &lt;/style&gt;\n",
              "        \n",
              "&lt;/head&gt;\n",
              "&lt;body&gt;\n",
              "    \n",
              "    \n",
              "            &lt;div class=&quot;folium-map&quot; id=&quot;map_ed8825ee300da6778f11c7bac8d5dbf0&quot; &gt;&lt;/div&gt;\n",
              "        \n",
              "&lt;/body&gt;\n",
              "&lt;script&gt;\n",
              "    \n",
              "    \n",
              "            var map_ed8825ee300da6778f11c7bac8d5dbf0 = L.map(\n",
              "                &quot;map_ed8825ee300da6778f11c7bac8d5dbf0&quot;,\n",
              "                {\n",
              "                    center: [-34.02177876165348, -71.28631245807647],\n",
              "                    crs: L.CRS.EPSG3857,\n",
              "                    zoom: 6,\n",
              "                    zoomControl: true,\n",
              "                    preferCanvas: false,\n",
              "                }\n",
              "            );\n",
              "\n",
              "            \n",
              "\n",
              "        \n",
              "    \n",
              "            var tile_layer_3007427fedfd48866afe89eaff4422ab = L.tileLayer(\n",
              "                &quot;https://{s}.tile.openstreetmap.org/{z}/{x}/{y}.png&quot;,\n",
              "                {&quot;attribution&quot;: &quot;Data by \\u0026copy; \\u003ca target=\\&quot;_blank\\&quot; href=\\&quot;http://openstreetmap.org\\&quot;\\u003eOpenStreetMap\\u003c/a\\u003e, under \\u003ca target=\\&quot;_blank\\&quot; href=\\&quot;http://www.openstreetmap.org/copyright\\&quot;\\u003eODbL\\u003c/a\\u003e.&quot;, &quot;detectRetina&quot;: false, &quot;maxNativeZoom&quot;: 18, &quot;maxZoom&quot;: 18, &quot;minZoom&quot;: 0, &quot;noWrap&quot;: false, &quot;opacity&quot;: 1, &quot;subdomains&quot;: &quot;abc&quot;, &quot;tms&quot;: false}\n",
              "            ).addTo(map_ed8825ee300da6778f11c7bac8d5dbf0);\n",
              "        \n",
              "    \n",
              "            var tile_layer_bc9421969d06108595074402f26a774c = L.tileLayer(\n",
              "                &quot;https://server.arcgisonline.com/ArcGIS/rest/services/World_Imagery/MapServer/tile/{z}/{y}/{x}&quot;,\n",
              "                {&quot;attribution&quot;: &quot;Map Data \\u0026copy; \\u003ca href=\\&quot;https://earthengine.google.com/\\&quot;\\u003eGoogle Earth Engine\\u003c/a\\u003e&quot;, &quot;detectRetina&quot;: false, &quot;maxNativeZoom&quot;: 18, &quot;maxZoom&quot;: 18, &quot;minZoom&quot;: 0, &quot;noWrap&quot;: false, &quot;opacity&quot;: 1, &quot;subdomains&quot;: &quot;abc&quot;, &quot;tms&quot;: false}\n",
              "            ).addTo(map_ed8825ee300da6778f11c7bac8d5dbf0);\n",
              "        \n",
              "    \n",
              "            var tile_layer_218a30e37d1a00bc7ee933c7f4f1fc24 = L.tileLayer(\n",
              "                &quot;https://earthengine.googleapis.com/v1/projects/intrepid-charge-305912/maps/774fd8d8283d590c051786bdee103ded-dfb7ad320cfd2834785b006f27b4fea7/tiles/{z}/{x}/{y}&quot;,\n",
              "                {&quot;attribution&quot;: &quot;Map Data \\u0026copy; \\u003ca href=\\&quot;https://earthengine.google.com/\\&quot;\\u003eGoogle Earth Engine\\u003c/a\\u003e&quot;, &quot;detectRetina&quot;: false, &quot;maxNativeZoom&quot;: 18, &quot;maxZoom&quot;: 18, &quot;minZoom&quot;: 0, &quot;noWrap&quot;: false, &quot;opacity&quot;: 1, &quot;subdomains&quot;: &quot;abc&quot;, &quot;tms&quot;: false}\n",
              "            ).addTo(map_ed8825ee300da6778f11c7bac8d5dbf0);\n",
              "        \n",
              "    \n",
              "            var layer_control_1bf4e12d86d12feba84e4edbfd841499 = {\n",
              "                base_layers : {\n",
              "                    &quot;openstreetmap&quot; : tile_layer_3007427fedfd48866afe89eaff4422ab,\n",
              "                },\n",
              "                overlays :  {\n",
              "                    &quot;satellite&quot; : tile_layer_bc9421969d06108595074402f26a774c,\n",
              "                    &quot;defo&quot; : tile_layer_218a30e37d1a00bc7ee933c7f4f1fc24,\n",
              "                },\n",
              "            };\n",
              "            L.control.layers(\n",
              "                layer_control_1bf4e12d86d12feba84e4edbfd841499.base_layers,\n",
              "                layer_control_1bf4e12d86d12feba84e4edbfd841499.overlays,\n",
              "                {&quot;autoZIndex&quot;: true, &quot;collapsed&quot;: true, &quot;position&quot;: &quot;topright&quot;}\n",
              "            ).addTo(map_ed8825ee300da6778f11c7bac8d5dbf0);\n",
              "        \n",
              "&lt;/script&gt;\n",
              "&lt;/html&gt;\" style=\"position:absolute;width:100%;height:100%;left:0;top:0;border:none !important;\" allowfullscreen webkitallowfullscreen mozallowfullscreen></iframe></div></div>"
            ]
          },
          "metadata": {},
          "execution_count": 44
        }
      ]
    }
  ]
}