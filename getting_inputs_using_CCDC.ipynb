{
  "nbformat": 4,
  "nbformat_minor": 0,
  "metadata": {
    "colab": {
      "provenance": [],
      "authorship_tag": "ABX9TyOVUwrVOFZnT6w3uJvCC0Rx",
      "include_colab_link": true
    },
    "kernelspec": {
      "name": "python3",
      "display_name": "Python 3"
    },
    "language_info": {
      "name": "python"
    }
  },
  "cells": [
    {
      "cell_type": "markdown",
      "metadata": {
        "id": "view-in-github",
        "colab_type": "text"
      },
      "source": [
        "<a href=\"https://colab.research.google.com/github/IFuentesSR/SAMSARA_UAI/blob/main/getting_inputs_using_CCDC.ipynb\" target=\"_parent\"><img src=\"https://colab.research.google.com/assets/colab-badge.svg\" alt=\"Open In Colab\"/></a>"
      ]
    },
    {
      "cell_type": "markdown",
      "source": [
        "### Codes necessary to obtain inputs for secondary classification"
      ],
      "metadata": {
        "id": "F6MqS-e0CUb5"
      }
    },
    {
      "cell_type": "code",
      "execution_count": 1,
      "metadata": {
        "id": "-Dqxtu9zrK0e"
      },
      "outputs": [],
      "source": [
        "# Import, authenticate and initialize the Earth Engine library.\n",
        "import ee\n",
        "ee.Authenticate()\n",
        "ee.Initialize(project='your_project') #use your credentials"
      ]
    },
    {
      "cell_type": "markdown",
      "source": [
        "#### Section to get the CCDC covariates (change dates and magnitudes)"
      ],
      "metadata": {
        "id": "g_Gavr34jE7-"
      }
    },
    {
      "cell_type": "code",
      "source": [
        "def mask(img):\n",
        "    qua = ee.Image(img).select('QA_PIXEL')\n",
        "    props = img.propertyNames()\n",
        "    dilated = qua.bitwiseAnd(2).eq(0)\n",
        "    cirrus = qua.bitwiseAnd(4).eq(0)\n",
        "    clouds = qua.bitwiseAnd(8).eq(0)\n",
        "    shadows = qua.bitwiseAnd(16).eq(0)\n",
        "    return img.updateMask(dilated).updateMask(cirrus).updateMask(clouds).updateMask(shadows).multiply(0.0000275).add(-0.2).copyProperties(img, props)\n",
        "\n",
        "def ndvil8(img):\n",
        "    props = img.propertyNames()\n",
        "    ix = img.normalizedDifference(['SR_B5', 'SR_B4'])\n",
        "    return img.addBands(ix.rename('ndvi')).copyProperties(img, props)\n",
        "\n",
        "\n",
        "def ndvil57(img):\n",
        "    props = img.propertyNames()\n",
        "    ix = img.normalizedDifference(['SR_B4', 'SR_B3'])\n",
        "    return img.addBands(ix.rename('ndvi')).copyProperties(img, props)\n",
        "\n",
        "\n",
        "def get_date(x):\n",
        "    return ee.Date(x).format('YYYY-MM-dd')"
      ],
      "metadata": {
        "id": "AEypcuMfjDX3"
      },
      "execution_count": 2,
      "outputs": []
    },
    {
      "cell_type": "code",
      "source": [
        "\"\"\"functions taken from users/wiell/temporalSegmentation:temporalSegmentation\"\"\"\n",
        "\n",
        "def count(segmentsImage):\n",
        "    return segmentsImage.select(0).arrayLength(0)\n",
        "\n",
        "\n",
        "def getSegmentIndexes(segmentsImage):\n",
        "    return segmentsImage.select(0).Not().Not().arrayAccum(0, ee.Reducer.sum()).subtract(1)\n",
        "\n",
        "\n",
        "def bandNames1D(segmentsImage):\n",
        "    return segmentsImage.bandNames().filter(ee.Filter.stringEndsWith('item', '_coefs').Not())\n",
        "\n",
        "\n",
        "def bandNames2D(segmentsImage):\n",
        "    return segmentsImage.bandNames().filter(ee.Filter.stringEndsWith('item', '_coefs'))\n",
        "\n",
        "\n",
        "def updateImageMask(segmentsImage):\n",
        "    return segmentsImage.addBands(segmentsImage.select(bandNames1D(segmentsImage)).unmask(ee.Array([], ee.PixelType.double())), None, True).addBands(segmentsImage.select(bandNames2D(segmentsImage)).unmask(ee.Array([[]], ee.PixelType.double())), None, True).mask(segmentsImage.select(0).arrayLength(0).unmask(0))\n",
        "\n",
        "\n",
        "def getSegmentImage(segmentIndex, segmentsImage):\n",
        "    mask = getSegmentIndexes(segmentsImage).eq(segmentIndex.unmask(-1))\n",
        "    image1D = segmentsImage.select(bandNames1D(segmentsImage)).arrayMask(mask)\n",
        "    image1D = image1D.mask(image1D.select(0).arrayLength(0).unmask(0)).arrayProject([0]).arrayGet([0])\n",
        "    image2D = segmentsImage.select(bandNames2D(segmentsImage)).arrayMask(mask.toArray(1).unmask(ee.Array([[]], ee.PixelType.double())))\n",
        "    image2D = image2D.mask(image2D.select(0).arrayLength(0).unmask(0)).arrayProject([1])\n",
        "    return image1D.addBands(image2D)\n",
        "\n",
        "\n",
        "def toCollection(segmentsImage, maxSegments):\n",
        "    segmentCount = count(segmentsImage)\n",
        "    def inner(i, acc):\n",
        "        image = ee.Image([0]).set('imageIndex', i)\n",
        "        return ee.ImageCollection(acc).merge(ee.ImageCollection([image]))\n",
        "    def inner2(image):\n",
        "        imageIndex = ee.Image(ee.Number(image.get('imageIndex')))\n",
        "        segmentIndex = segmentCount.subtract(1).min(imageIndex)\n",
        "        return getSegmentImage(segmentIndex, segmentsImage).updateMask(imageIndex.lt(segmentCount))\n",
        "\n",
        "    imageCollection = ee.ImageCollection(ee.List.sequence(0, ee.Number(maxSegments).subtract(1)).iterate(inner, ee.ImageCollection([]))).map(inner2)\n",
        "    return imageCollection\n",
        "\n",
        "\n",
        "def ccdcProcessing(segmentsImage, maxSegments):\n",
        "    segmentsImage = updateImageMask(segmentsImage)\n",
        "    segmentsImage = segmentsImage.addBands(segmentsImage.select('.*_coefs').arrayPad([0, 8]), None, True)\n",
        "    return toCollection(segmentsImage, maxSegments)\n",
        "\n",
        "\n",
        "def iteration(image, acc):\n",
        "    return ee.Image(acc).addBands(image)"
      ],
      "metadata": {
        "id": "o4Z1Be1ZjNEF"
      },
      "execution_count": 3,
      "outputs": []
    },
    {
      "cell_type": "markdown",
      "source": [
        "Different tiles in the study region. Consider to iterate using them to cover the entire area of study."
      ],
      "metadata": {
        "id": "hTiotwWOC6sP"
      }
    },
    {
      "cell_type": "code",
      "source": [
        "tiles = ee.List(['001083', '001084', '001085', '233083', '233084', '233085'])\n",
        "ix = 0"
      ],
      "metadata": {
        "id": "0TEf16_hjTb6"
      },
      "execution_count": null,
      "outputs": []
    },
    {
      "cell_type": "code",
      "source": [
        "l9 = ee.ImageCollection(\"LANDSAT/LC09/C02/T1_L2\").filter(ee.Filter.stringContains('system:index', tiles.get(ix))).map(mask).map(ndvil8).filterDate('2000-01-01', '2023-01-01')\n",
        "l8 = ee.ImageCollection(\"LANDSAT/LC08/C02/T1_L2\").filter(ee.Filter.stringContains('system:index', tiles.get(ix))).map(mask).map(ndvil8).filterDate('2000-01-01', '2023-01-01')\n",
        "l7 = ee.ImageCollection(\"LANDSAT/LE07/C02/T1_L2\").filter(ee.Filter.stringContains('system:index', tiles.get(ix))).map(mask).map(ndvil57).filterDate('2000-01-01', '2023-01-01')\n",
        "l5 = ee.ImageCollection(\"LANDSAT/LT05/C02/T1_L2\").filter(ee.Filter.stringContains('system:index', tiles.get(ix))).map(mask).map(ndvil57).filterDate('2000-01-01', '2023-01-01')"
      ],
      "metadata": {
        "id": "-tN2R0gxjWbI"
      },
      "execution_count": null,
      "outputs": []
    },
    {
      "cell_type": "code",
      "source": [
        "landsat = l9.merge(l8).merge(l7).merge(l5).select('ndvi').sort('system:time_start')\n",
        "geo = ee.Geometry.Polygon(ee.Geometry(l9.first().get('system:footprint')).coordinates())\n",
        "ccdc = ee.Algorithms.TemporalSegmentation.Ccdc(collection=landsat,\n",
        "                                               breakpointBands=['ndvi'],\n",
        "                                               tmaskBands=None,\n",
        "                                               minObservations=5,\n",
        "                                               chiSquareProbability=0.9)"
      ],
      "metadata": {
        "id": "vPQOp9YxjZzn"
      },
      "execution_count": null,
      "outputs": []
    },
    {
      "cell_type": "code",
      "source": [
        "maxSegments = 5\n",
        "band = 'tStart' # 'ndvi_magnitude'\n",
        "\n",
        "collection = ccdcProcessing(ccdc, maxSegments)\n",
        "allCcdcBands = ee.Image(collection.iterate(iteration, ee.Image())).slice(1)\n",
        "singleCcdcBands = ee.Image(collection.select(band).iterate(iteration, ee.Image())).slice(1)"
      ],
      "metadata": {
        "id": "mk9akdlMjfER"
      },
      "execution_count": null,
      "outputs": []
    },
    {
      "cell_type": "code",
      "source": [
        "ee.batch.Export.image.toAsset(image=singleCcdcBands,\n",
        "                              region=geo,\n",
        "                              scale=30,\n",
        "                              maxPixels=1e13,\n",
        "                              description='ccdc_ex',\n",
        "                              assetId='users/ignisfausto/ccdc_test_ex_tStart').start()"
      ],
      "metadata": {
        "id": "CFa0B3S0ji5P"
      },
      "execution_count": null,
      "outputs": []
    },
    {
      "cell_type": "markdown",
      "source": [
        "#### Section to get the radar vegetation index (RVI) covariates\n",
        "\n",
        "$RVI = \\frac{4\\sigma^0_{VH}}{\\sigma^0_{VV}+\\sigma^0_{VH}}$"
      ],
      "metadata": {
        "id": "ImYKiOtMiwLx"
      }
    },
    {
      "cell_type": "code",
      "source": [
        "### Functions to process SAR data\n",
        "\n",
        "def toNatural(img):\n",
        "  img = ee.Image(img)\n",
        "  return ee.Image(10.0).pow(img.select(['VV', 'VH']).divide(10.0))\n",
        "\n",
        "\n",
        "def toDB(img):\n",
        "  img = ee.Image(img)\n",
        "  return ee.Image(img).log10().multiply(10.0).copyProperties(img, ['system:time_start', 'date'])\n",
        "\n",
        "\n",
        "def edgeRemoval(img):\n",
        "  img = ee.Image(img)\n",
        "  return img.updateMask(img.gt(-30))\n",
        "\n",
        "\n",
        "def rviFunction(img):\n",
        "    # #https://www.tandfonline.com/doi/full/10.1080/22797254.2021.2018667\n",
        "    props = img.propertyNames()\n",
        "    rvi = img.select('VH').multiply(4).divide(img.select('VH').add(img.select('VV')))\n",
        "    return rvi.rename('rvi').copyProperties(img, props)\n",
        "\n",
        "\n",
        "def set_datex(img):\n",
        "    return img.set('date', ee.Date(ee.Image(img).get('system:time_start')).format('YYYY-MM-dd'))\n",
        "\n",
        "\n",
        "def gaussianFilter(img):\n",
        "  properties = img.propertyNames()\n",
        "  img = ee.Image(edgeRemoval(img))\n",
        "  return img.convolve(ee.Kernel.gaussian(3, 3)).copyProperties(img, properties)"
      ],
      "metadata": {
        "id": "IPz0WS3JrbyS"
      },
      "execution_count": null,
      "outputs": []
    },
    {
      "cell_type": "code",
      "source": [
        "geometry = ee.Geometry.Polygon([[[-70.92753862061205, -32.977644498424056],\n",
        "                                 [-70.92839692749682, -32.97620444855654],\n",
        "                                 [-70.92977021851245, -32.97591643576499],\n",
        "                                 [-70.92925523438159, -32.9779325055795]]])"
      ],
      "metadata": {
        "id": "lP1M_bQurhQY"
      },
      "execution_count": null,
      "outputs": []
    },
    {
      "cell_type": "code",
      "source": [
        "S1 = ee.ImageCollection('COPERNICUS/S1_GRD_FLOAT')\n",
        "S1 = S1.filterBounds(geometry).filterDate('2016-01-01', '2023-01-01')\n",
        "S1 = S1.filter(ee.Filter.eq('instrumentMode', 'IW'))\n",
        "S1 = S1.filter(ee.Filter.eq('orbitProperties_pass', 'DESCENDING'))\n",
        "S1 = S1.filter(ee.Filter.listContains('transmitterReceiverPolarisation', 'VV'))\n",
        "S1 = S1.filter(ee.Filter.listContains('transmitterReceiverPolarisation', 'VH'))\n",
        "S1 = S1.map(gaussianFilter)"
      ],
      "metadata": {
        "id": "NtnIRi9Srcwc"
      },
      "execution_count": null,
      "outputs": []
    },
    {
      "cell_type": "code",
      "source": [
        "SRI = S1.map(rviFunction).map(set_datex).sort('system:time_start')\n",
        "agg = SRI.reduce(ee.Reducer.percentile([25, 75]))\n",
        "agg = agg.addBands(agg.select(1).subtract(agg.select(0)).rename('iqr'))"
      ],
      "metadata": {
        "id": "LOujdL2Hr-n8"
      },
      "execution_count": null,
      "outputs": []
    },
    {
      "cell_type": "code",
      "source": [
        "ee.batch.Export.image.toDrive(image=agg,\n",
        "                              description='any',\n",
        "                              scale=30,\n",
        "                              maxPixels=1e13).start()"
      ],
      "metadata": {
        "colab": {
          "base_uri": "https://localhost:8080/"
        },
        "id": "313CJ9zcsEQE",
        "outputId": "fdeb6895-cf58-498d-9fa5-bab1e33a093e"
      },
      "execution_count": null,
      "outputs": [
        {
          "output_type": "stream",
          "name": "stdout",
          "text": [
            "['rvi_p25', 'rvi_p75', 'iqr']\n"
          ]
        }
      ]
    },
    {
      "cell_type": "markdown",
      "source": [
        "#### Section to get inputs derived from CCDC temporal segmentation using neighborhood and textural analysis"
      ],
      "metadata": {
        "id": "i1UQCW1MLcCQ"
      }
    },
    {
      "cell_type": "code",
      "source": [
        "def to_year (img):\n",
        "    year2000 = 730485\n",
        "    year = img.subtract(year2000).divide(365)\n",
        "    return ee.Image(2000).add(ee.Image(year))\n",
        "\n",
        "\n",
        "def to_day(img):\n",
        "    year = img.subtract(2016).multiply(365)\n",
        "    return year\n"
      ],
      "metadata": {
        "id": "siq3MAcx2SsP"
      },
      "execution_count": 9,
      "outputs": []
    },
    {
      "cell_type": "code",
      "source": [
        "'''import the saved ccdc outputs that have been created (change magnitudes and dates)'''\n",
        "\n",
        "mgs = ee.Image('users/ignisfausto/ccdc_magnitude_001083_09')\n",
        "bks = ee.Image('users/ignisfausto/ccdc_test_ex_tStart')"
      ],
      "metadata": {
        "id": "uEUjcqiKyU1L"
      },
      "execution_count": 25,
      "outputs": []
    },
    {
      "cell_type": "code",
      "source": [
        "'''Neighborhood statistics'''\n",
        "\n",
        "mask = bks.gte(2016)\n",
        "mask2 = mgs.lt(0)\n",
        "mask2 = ee.Image(0).addBands(mask2.select([0,1,2,3]))\n",
        "\n",
        "bks = bks.updateMask(mask).updateMask(mask2)\n",
        "bks = bks.select([1,2,3,4])\n",
        "mgs = mgs.updateMask(mask.select([1,2,3,4]).addBands(ee.Image(0))).updateMask(mask2.select([1,2,3,4]).addBands(ee.Image(0)))\n",
        "\n",
        "bks2 = bks.reduce(ee.Reducer.firstNonNull()).rename('ccdc_bks')\n",
        "mgs2 = mgs.reduce(ee.Reducer.firstNonNull()).rename('ccdc_mgs')\n",
        "\n",
        "ccdc_dv = ee.Image(bks2).addBands(mgs2).reduceNeighborhood('stdDev', ee.Kernel.square(50))\n",
        "ee.batch.Export.image.toDrive(image=ccdc_dv,\n",
        "                              description='any',\n",
        "                              region=geo,\n",
        "                              scale=30,\n",
        "                              maxPixels=1e13).start()\n"
      ],
      "metadata": {
        "id": "pCGgWi3n4cid"
      },
      "execution_count": 27,
      "outputs": []
    },
    {
      "cell_type": "code",
      "source": [
        "'''GLCM inputs'''\n",
        "\n",
        "focal = mgs2.focal_mean(7)\n",
        "mgs3 = mgs2.where(mgs2.subtract(focal).abs().gt(0.3), focal)\n",
        "glcm = mgs3.multiply(1000).toInt().glcmTexture(7, ee.Kernel.square(7))\n",
        "bands = ['ccdc_mgs_asm',\n",
        "         'ccdc_mgs_contrast',\n",
        "         'ccdc_mgs_idm',\n",
        "         'ccdc_mgs_ent',\n",
        "         'ccdc_mgs_savg']\n",
        "ee.batch.Export.image.toDrive(image=glcm.select(bands),\n",
        "                              description='any',\n",
        "                              region=geo,\n",
        "                              scale=30,\n",
        "                              maxPixels=1e13).start()"
      ],
      "metadata": {
        "id": "Yr3_NKe6Lu6e"
      },
      "execution_count": 23,
      "outputs": []
    },
    {
      "cell_type": "code",
      "source": [],
      "metadata": {
        "id": "ugA-cK1lOgOA"
      },
      "execution_count": null,
      "outputs": []
    }
  ]
}