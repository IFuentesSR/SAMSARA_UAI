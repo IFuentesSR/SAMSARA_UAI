{
 "cells": [
  {
   "cell_type": "code",
   "execution_count": 1,
   "id": "ef5803d7-92a4-43a9-808a-6bc07d4b2597",
   "metadata": {},
   "outputs": [],
   "source": [
    "import numpy as np\n",
    "import pandas as pd\n",
    "import datacube\n",
    "import time\n",
    "from multiprocessing import Pool\n",
    "import itertools\n",
    "import rasterio\n",
    "from datacube.utils import masking\n",
    "import rioxarray\n",
    "import gc\n",
    "\n",
    "\n",
    "from datetime import datetime\n",
    "from odc.ui import DcViewer\n",
    "from odc.ui import with_ui_cbk\n",
    "\n",
    "# Set some configurations for displaying tables nicely\n",
    "pd.set_option(\"display.max_colwidth\", 200)\n",
    "pd.set_option(\"display.max_rows\", None)"
   ]
  },
  {
   "cell_type": "code",
   "execution_count": 2,
   "id": "daa67950-a5fe-4526-9e5f-78c1453a9282",
   "metadata": {},
   "outputs": [],
   "source": [
    "import sys\n",
    "from scipy import stats\n",
    "import xarray as xr\n",
    "import matplotlib.pyplot as plt\n",
    "import matplotlib\n",
    "import ruptures as rpt\n",
    "%matplotlib inline\n",
    "from dea_tools.plotting import display_map, rgb"
   ]
  },
  {
   "cell_type": "code",
   "execution_count": 3,
   "id": "c654e2f5-8db9-4ebf-95b2-b5d43515fdba",
   "metadata": {},
   "outputs": [
    {
     "data": {
      "text/plain": [
       "<botocore.credentials.Credentials at 0x7fe701633d30>"
      ]
     },
     "execution_count": 3,
     "metadata": {},
     "output_type": "execute_result"
    }
   ],
   "source": [
    "from datacube.utils.rio import configure_s3_access\n",
    "from dask.distributed import Client\n",
    "\n",
    "configure_s3_access(aws_unsigned=False, requester_pays=True)"
   ]
  },
  {
   "cell_type": "markdown",
   "id": "e9c5c000",
   "metadata": {},
   "source": [
    "## Definition of some functions"
   ]
  },
  {
   "cell_type": "code",
   "execution_count": 4,
   "id": "f67ffc48-17df-453b-8699-0ac36db3aa67",
   "metadata": {},
   "outputs": [],
   "source": [
    "import datetime\n",
    "\n",
    "\n",
    "def get_days(df):\n",
    "    '''converts breaks to days from 2000-01-01'''\n",
    "    return lambda x: (df.loc[x]['index'] - pd.to_datetime('2000-01-01')).days + 0.0 if x > 0 else np.nan\n",
    "\n",
    "    \n",
    "def bkps2dates(array, pena):\n",
    "    try:\n",
    "        ixs = len(array)\n",
    "        df_array = pd.DataFrame(data={'ndvi':array.ravel(), 'ix':np.array(range(ixs))})\n",
    "        df_array2 = df_array.dropna(how='any')\n",
    "        model = 'rbf' #\"l1\", \"l2\", \"rbf\"\n",
    "        algo = ruptures.KernelCPD(kernel=model, min_size=3, jump=5).fit(df_array2['ndvi'].values)\n",
    "        my_bkps = algo.predict(pen=20)\n",
    "        if len(my_bkps) > 1:\n",
    "            return df_array2.reset_index().iloc[my_bkps[-2]-1]['ix']#, df_array2.reset_index().iloc[my_bkps[-2]-1]['index']\n",
    "        else:\n",
    "            return np.nan#, pd.to_datetime('1900-01-01')\n",
    "    except:\n",
    "        return np.nan\n",
    "            "
   ]
  },
  {
   "cell_type": "code",
   "execution_count": 5,
   "id": "e62c5a57-f70e-42a7-9525-c94ca3ad04c0",
   "metadata": {},
   "outputs": [],
   "source": [
    "def create_df(data, dates):\n",
    "    df = pd.DataFrame(index=pd.to_datetime(dates),\n",
    "                            data={'ndvi':data.ravel(), 'ix':range(len(data))})\n",
    "    df = df.dropna(how='any')\n",
    "    return df\n",
    "\n",
    "\n",
    "def model_pelt(df, pen):\n",
    "    model = 'rbf' #\"l1\", \"l2\", \"rbf\"\n",
    "    algo = rpt.KernelCPD(kernel=model, min_size=3, jump=5).fit(df['ndvi'].values)\n",
    "    my_bkps = algo.predict(pen=pen)\n",
    "    my_bkps = my_bkps[:-1]\n",
    "    my_bkps = [n-1 for n in my_bkps]\n",
    "    return my_bkps\n",
    "\n",
    "        \n",
    "def bkps2dates2(array, df_dates):\n",
    "    try:\n",
    "        df = create_df(array, df_dates)\n",
    "        my_bkps = model_pelt(df, 20)\n",
    "        df3 = df.reset_index()\n",
    "        df3 = df3[df3['index'] > '2016-01-01']\n",
    "        my_bkps = sorted(list(set(my_bkps).intersection(df3.index.tolist())))\n",
    "        \n",
    "        if len(df3.loc[my_bkps]) >= 1:\n",
    "            days = [df3.loc[n]['index'].year + ((df3.loc[n]['index'] - datetime.datetime(df3.loc[n]['index'].year, 1, 1)).days / 365) for n in my_bkps]\n",
    "            arr = np.full((5,1),np.nan)\n",
    "            arr[:len(days)] = np.array(days).reshape(-1, 1)\n",
    "            bks = [df3.loc[n]['ix'] for n in my_bkps]# if (n.index - pd.to_datetime('1900-01-01')).days > 42368]\n",
    "            a = np.full((5, 1), np.nan)\n",
    "            a[:len(bks)] = np.array(bks).reshape(-1, 1)\n",
    "            ndvis = []\n",
    "            # for n in my_bkps:\n",
    "            if len(my_bkps) == 1:\n",
    "                ndvis.append(df.iloc[my_bkps[0]:]['ndvi'].mean() - df.iloc[:my_bkps[0]]['ndvi'].mean())\n",
    "            elif len(my_bkps) == 2:\n",
    "                ndvis.append(df.iloc[my_bkps[0]:my_bkps[1]]['ndvi'].mean() - df.iloc[:my_bkps[0]]['ndvi'].mean())\n",
    "                ndvis.append(df.iloc[my_bkps[1]:]['ndvi'].mean() - df.iloc[my_bkps[0]:my_bkps[1]]['ndvi'].mean())\n",
    "            elif len(my_bkps) == 3:\n",
    "                ndvis.append(df.iloc[my_bkps[0]:my_bkps[1]]['ndvi'].mean() - df.iloc[:my_bkps[0]]['ndvi'].mean())\n",
    "                ndvis.append(df.iloc[my_bkps[1]:my_bkps[2]]['ndvi'].mean() - df.iloc[my_bkps[0]:my_bkps[1]]['ndvi'].mean())\n",
    "                ndvis.append(df.iloc[my_bkps[2]:]['ndvi'].mean() - df.iloc[my_bkps[1]:my_bkps[2]]['ndvi'].mean())\n",
    "            elif len(my_bkps) == 4:\n",
    "                ndvis.append(df.iloc[my_bkps[0]:my_bkps[1]]['ndvi'].mean() - df.iloc[:my_bkps[0]]['ndvi'].mean())\n",
    "                ndvis.append(df.iloc[my_bkps[1]:my_bkps[2]]['ndvi'].mean() - df.iloc[my_bkps[0]:my_bkps[1]]['ndvi'].mean())\n",
    "                ndvis.append(df.iloc[my_bkps[2]:my_bkps[3]]['ndvi'].mean() - df.iloc[my_bkps[1]:my_bkps[2]]['ndvi'].mean())\n",
    "                ndvis.append(df.iloc[my_bkps[3]:]['ndvi'].mean() - df.iloc[my_bkps[2]:my_bkps[3]]['ndvi'].mean())\n",
    "            else:\n",
    "                ndvis.append(df.iloc[my_bkps[0]:my_bkps[1]]['ndvi'].mean() - df.iloc[:my_bkps[0]]['ndvi'].mean())\n",
    "                ndvis.append(df.iloc[my_bkps[1]:my_bkps[2]]['ndvi'].mean() - df.iloc[my_bkps[0]:my_bkps[1]]['ndvi'].mean())\n",
    "                ndvis.append(df.iloc[my_bkps[2]:my_bkps[3]]['ndvi'].mean() - df.iloc[my_bkps[1]:my_bkps[2]]['ndvi'].mean())\n",
    "                ndvis.append(df.iloc[my_bkps[3]:my_bkps[4]]['ndvi'].mean() - df.iloc[my_bkps[2]:my_bkps[3]]['ndvi'].mean())\n",
    "                ndvis.append(df.iloc[my_bkps[4]:]['ndvi'].mean() - df.iloc[my_bkps[3]:my_bkps[4]]['ndvi'].mean())\n",
    "            mag = np.full((5, 1), np.nan)\n",
    "            mag[:len(bks)] = np.array(ndvis).reshape(-1, 1)\n",
    "            return np.hstack([arr.astype(float).transpose(),\n",
    "                              a.astype(float).transpose(),\n",
    "                              mag.astype(float).transpose()])\n",
    "        else:\n",
    "            return np.hstack([np.full((5, 1), np.nan).transpose(),\n",
    "                              np.full((5, 1), np.nan).transpose(),\n",
    "                              np.full((5, 1), np.nan).transpose()])\n",
    "    except:\n",
    "        return np.hstack([np.full((5, 1), np.nan).transpose(),\n",
    "                          np.full((5, 1), np.nan).transpose(),\n",
    "                          np.full((5, 1), np.nan).transpose()])        "
   ]
  },
  {
   "cell_type": "markdown",
   "id": "a8b7843c",
   "metadata": {},
   "source": [
    "## Let's define some tiles and sample landsat collection to these boundaries\n",
    "\n",
    "This should run PELT on these tiles and store breaks and change magnitudes in each case."
   ]
  },
  {
   "cell_type": "code",
   "execution_count": 5,
   "id": "cac5a686-3e1b-44d7-a310-1f89237e4739",
   "metadata": {},
   "outputs": [],
   "source": [
    "tiles_x = [(-71.6, -71.2), (-71.2, -70.8), (-70.8, -70.4), (-70.4, -70.0), (-70.0, -69.6)]\n",
    "tiles_y = [(-32.6, -32.25), (-32.6, -32.25), (-32.6, -32.25), (-32.6, -32.25), (-32.6, -32.25)]"
   ]
  },
  {
   "cell_type": "code",
   "execution_count": null,
   "id": "9e003380-4399-49ad-b415-30f29995ddf6",
   "metadata": {},
   "outputs": [
    {
     "data": {
      "application/vnd.jupyter.widget-view+json": {
       "model_id": "0d68165a424b4df5a23a9c1387c69982",
       "version_major": 2,
       "version_minor": 0
      },
      "text/plain": [
       "VBox(children=(HBox(children=(Label(value=''), Label(value='')), layout=Layout(justify_content='space-between'…"
      ]
     },
     "metadata": {},
     "output_type": "display_data"
    },
    {
     "data": {
      "application/vnd.jupyter.widget-view+json": {
       "model_id": "baa372b59d354c2c9adafc62c85e107e",
       "version_major": 2,
       "version_minor": 0
      },
      "text/plain": [
       "VBox(children=(HBox(children=(Label(value=''), Label(value='')), layout=Layout(justify_content='space-between'…"
      ]
     },
     "metadata": {},
     "output_type": "display_data"
    },
    {
     "name": "stderr",
     "output_type": "stream",
     "text": [
      "/tmp/ipykernel_8330/343364721.py:66: FutureWarning: ``output_sizes`` should be given in the ``dask_gufunc_kwargs`` parameter. It will be removed as direct parameter in a future version.\n",
      "  output1 = xr.apply_ufunc(bkps2dates2,\n",
      "/env/lib/python3.10/site-packages/rasterio/warp.py:344: NotGeoreferencedWarning: Dataset has no geotransform, gcps, or rpcs. The identity matrix will be returned.\n",
      "  _reproject(\n"
     ]
    }
   ],
   "source": [
    "for i, n in enumerate(tiles_x[:]):\n",
    "    dc = datacube.Datacube(app=\"04_Loading_data\")\n",
    "    ds = dc.load(product=['landsat5_c2l2_sr', 'landsat7_c2l2_sr'],\n",
    "                 x=n,\n",
    "                 y=tiles_y[i],\n",
    "                 time=(\"2000-01-01\", \"2023-01-01\"),\n",
    "                 output_crs='EPSG:32719',\n",
    "                 resolution=(-30,30),\n",
    "                 progress_cbk=with_ui_cbk(),\n",
    "                 group_by='solar_day',\n",
    "                 dask_chunks={\"x\": 2048, \"y\": 2048},\n",
    "                 skip_broken_datasets= True\n",
    "                )\n",
    "    good_pixel_flags = {\n",
    "        \"snow\": \"not_high_confidence\",\n",
    "        \"cloud\": \"not_high_confidence\",\n",
    "        \"cloud_shadow\": \"not_high_confidence\",\n",
    "        \"nodata\": False\n",
    "    }\n",
    "    quality_band = 'qa_pixel'\n",
    "    cloud_free_mask1 = masking.make_mask(ds[quality_band], **good_pixel_flags)\n",
    "    ds.update(ds * 0.0000275 + -0.2)\n",
    "    ndvi = (ds.nir08 - ds.red) / (ds.nir08  + ds.red ).where(cloud_free_mask1)\n",
    "\n",
    "    dc = datacube.Datacube(app=\"04_Loading_data\")\n",
    "    ds2 = dc.load(product=[\"landsat8_c2l2_sr\", 'landsat9_c2l2_sr'],\n",
    "                 x=n,\n",
    "                 y=tiles_y[i],\n",
    "                 time=(\"2000-01-01\", \"2023-01-01\"),\n",
    "                 output_crs='EPSG:32719',\n",
    "                 resolution=(-30,30),\n",
    "                 progress_cbk=with_ui_cbk(),\n",
    "                 group_by='solar_day',\n",
    "                 dask_chunks={\"x\": 2048, \"y\": 2048},\n",
    "                 skip_broken_datasets= True\n",
    "                )\n",
    "    good_pixel_flags2 = {\n",
    "        \"snow\": \"not_high_confidence\",\n",
    "        \"cloud\": \"not_high_confidence\",\n",
    "        \"cirrus\": \"not_high_confidence\",\n",
    "        \"cloud_shadow\": \"not_high_confidence\",\n",
    "        \"nodata\": False\n",
    "    }\n",
    "    cloud_free_mask2 = masking.make_mask(ds2[quality_band], **good_pixel_flags2)\n",
    "    ds2.update(ds2 * 0.0000275 + -0.2)\n",
    "    ndvi2 = (ds2.nir08 - ds2.red) / (ds2.nir08  + ds2.red ).where(cloud_free_mask2)\n",
    "    ndvix = xr.concat([ndvi, ndvi2], dim='time')\n",
    "   \n",
    "    chunks = ndvix.chunk({'x':50, 'y':50, 'time':len(ndvix.time.values)})\n",
    "    output1 = xr.apply_ufunc(bkps2dates2, \n",
    "                            chunks, \n",
    "                             ndvix.time.values,\n",
    "                            input_core_dims=[['time'], ['time']],\n",
    "                            output_core_dims=[['new']],\n",
    "                            exclude_dims=set((\"time\",)),\n",
    "                             output_sizes={'new':15},\n",
    "                            vectorize=True,\n",
    "                            output_dtypes=[ndvix.dtype],\n",
    "                            # output_sizes={'size':5},\n",
    "                             # dask='allowed')\n",
    "                            dask='parallelized')\n",
    "\n",
    "    out = output1.compute()\n",
    "    dates, bks, mags = out.isel(new=range(5)), out.isel(new=range(5,10)), out.isel(new=range(10,15))\n",
    "    dates.attrs = ds.attrs\n",
    "    meta = {'driver': 'GTiff',\n",
    "        'dtype': 'float32',\n",
    "        'width':dates.shape[1], \n",
    "        'height':dates.shape[0],\n",
    "        'count':5,\n",
    "        'crs':ds.crs,\n",
    "        'transform':ds.affine\n",
    "       }\n",
    "    with rasterio.open('bks2_1_{}.tif'.format(str(i)), 'w', **meta) as dst:\n",
    "        dst.write(np.moveaxis(dates.values, 2, 0))\n",
    "    with rasterio.open('mag2_1_{}.tif'.format(str(i)), 'w', **meta) as dst:\n",
    "        dst.write(np.moveaxis(mags.values, 2, 0))\n",
    "    del dc, ds, ds2, ndvi, ndvi2, chunks, output1, out, dates, bks, mags, meta"
   ]
  },
  {
   "cell_type": "markdown",
   "id": "678becc1-6c87-4ee9-88b0-e00f40680011",
   "metadata": {},
   "source": [
    "## This is a the code for runing PELT on polygons from a shapefile"
   ]
  },
  {
   "cell_type": "code",
   "execution_count": 6,
   "id": "ea623878-ae80-47f8-aa74-cadbba35c51c",
   "metadata": {
    "tags": []
   },
   "outputs": [],
   "source": [
    "import geopandas as gpd\n",
    "\n",
    "\n",
    "gdf = gpd.read_file('data/PolValConsolidadosBosquePlantacion.shp')"
   ]
  },
  {
   "cell_type": "code",
   "execution_count": 8,
   "id": "aee530fc-0979-449a-945d-e7d1da0f8e0a",
   "metadata": {
    "tags": []
   },
   "outputs": [
    {
     "data": {
      "text/plain": [
       "array(['estable', 'tala', 'sequia', 'sequia tala', 'incendio sequia',\n",
       "       'incendio tala', 'sequia incendio', 'incendio sequia tala',\n",
       "       'tala sequia', 'tala incendio', 'tala incendio sequia',\n",
       "       'incendio incendio tala', 'incendio'], dtype=object)"
      ]
     },
     "execution_count": 8,
     "metadata": {},
     "output_type": "execute_result"
    }
   ],
   "source": [
    "gdf['NAME'].unique()"
   ]
  },
  {
   "cell_type": "code",
   "execution_count": 23,
   "id": "f946cf2b-c065-44d4-bc3a-152dd9fac1b3",
   "metadata": {
    "tags": []
   },
   "outputs": [],
   "source": [
    "gdf['geometry'] = gdf['geometry'].to_crs('epsg:32719')"
   ]
  },
  {
   "cell_type": "code",
   "execution_count": 8,
   "id": "44d59db8-b699-478d-9c3b-7131d7b6f332",
   "metadata": {},
   "outputs": [],
   "source": [
    "estables = gdf[gdf['NAME'] == 'estable']\n",
    "\n",
    "tala = gdf[((gdf['NAME'] == 'tala') & ~(gdf['ID'].isin(lw2016))) | (gdf['ID'].isin(keep))]\n",
    "\n",
    "sequia = gdf[gdf['NAME'] == 'sequia']\n",
    "\n",
    "incendios = gdf[gdf['NAME'] == 'incendio']\n",
    "\n",
    "               "
   ]
  },
  {
   "cell_type": "code",
   "execution_count": 24,
   "id": "07ebd497-632e-4045-959d-8b7137859b8b",
   "metadata": {
    "tags": []
   },
   "outputs": [
    {
     "name": "stdout",
     "output_type": "stream",
     "text": [
      "81\n",
      "-34.1075072117 -34.0652857905 -71.78322865269999 -71.7407825411\n"
     ]
    },
    {
     "data": {
      "application/vnd.jupyter.widget-view+json": {
       "model_id": "aeeca6db94904e1d9ec5f98927271785",
       "version_major": 2,
       "version_minor": 0
      },
      "text/plain": [
       "VBox(children=(HBox(children=(Label(value=''), Label(value='')), layout=Layout(justify_content='space-between'…"
      ]
     },
     "metadata": {},
     "output_type": "display_data"
    },
    {
     "data": {
      "application/vnd.jupyter.widget-view+json": {
       "model_id": "412256e603d54f67a0e1a98468b43370",
       "version_major": 2,
       "version_minor": 0
      },
      "text/plain": [
       "VBox(children=(HBox(children=(Label(value=''), Label(value='')), layout=Layout(justify_content='space-between'…"
      ]
     },
     "metadata": {},
     "output_type": "display_data"
    }
   ],
   "source": [
    "name = tala['ID'].iloc[0]\n",
    "print(name)\n",
    "if tala.geometry.iloc[0].type == 'MultiPolygon':\n",
    "    x0 = np.min([np.min(n.exterior.xy[0]) for n in tala.geometry.iloc[0].geoms])\n",
    "    x1 = np.max([np.max(n.exterior.xy[0]) for n in tala.geometry.iloc[0].geoms])\n",
    "    y0 = np.min([np.min(n.exterior.xy[1]) for n in tala.geometry.iloc[0].geoms])\n",
    "    y1 = np.max([np.max(n.exterior.xy[1]) for n in tala.geometry.iloc[0].geoms])\n",
    "else:\n",
    "    x0, x1 = np.min(tala.geometry.iloc[0].exterior.coords.xy[0]), np.max(tala.geometry.iloc[0].exterior.coords.xy[0])\n",
    "    y0, y1 = np.min(tala.geometry.iloc[0].exterior.coords.xy[1]), np.max(tala.geometry.iloc[0].exterior.coords.xy[1])\n",
    "x0 = x0 - 0.02\n",
    "x1 = x1 + 0.02\n",
    "y0 = y0 - 0.02\n",
    "y1 = y1 + 0.02\n",
    "print(y0, y1, x0, x1)\n",
    "dc = datacube.Datacube(app=\"04_Loading_data\")\n",
    "ds = dc.load(product=['landsat5_c2l2_sr', 'landsat7_c2l2_sr'],\n",
    "             x=(x0, x1),\n",
    "             y=(y0, y1),\n",
    "             time=(\"2000-01-01\", \"2023-01-01\"),\n",
    "             output_crs='EPSG:32719',\n",
    "             resolution=(-30,30),\n",
    "             progress_cbk=with_ui_cbk(),\n",
    "             group_by='solar_day',\n",
    "             dask_chunks={\"x\": 2048, \"y\": 2048},\n",
    "             skip_broken_datasets= True\n",
    "            )\n",
    "good_pixel_flags = {\n",
    "    \"snow\": \"not_high_confidence\",\n",
    "    \"cloud\": \"not_high_confidence\",\n",
    "    \"cloud_shadow\": \"not_high_confidence\",\n",
    "    \"nodata\": False\n",
    "}\n",
    "quality_band = 'qa_pixel'\n",
    "cloud_free_mask1 = masking.make_mask(ds[quality_band], **good_pixel_flags)\n",
    "ds.update(ds * 0.0000275 + -0.2)\n",
    "ndvi = (ds.nir08 - ds.red) / (ds.nir08  + ds.red ).where(cloud_free_mask1)\n",
    "\n",
    "dc = datacube.Datacube(app=\"04_Loading_data\")\n",
    "ds2 = dc.load(product=[\"landsat8_c2l2_sr\", 'landsat9_c2l2_sr'],\n",
    "             x=(x0, x1),\n",
    "             y=(y0, y1),\n",
    "             time=(\"2000-01-01\", \"2023-01-01\"),\n",
    "             output_crs='EPSG:32719',\n",
    "             resolution=(-30,30),\n",
    "             progress_cbk=with_ui_cbk(),\n",
    "             group_by='solar_day',\n",
    "             dask_chunks={\"x\": 2048, \"y\": 2048},\n",
    "             skip_broken_datasets= True\n",
    "            )\n",
    "good_pixel_flags2 = {\n",
    "    \"snow\": \"not_high_confidence\",\n",
    "    \"cloud\": \"not_high_confidence\",\n",
    "    \"cirrus\": \"not_high_confidence\",\n",
    "    \"cloud_shadow\": \"not_high_confidence\",\n",
    "    \"nodata\": False\n",
    "}\n",
    "\n",
    "cloud_free_mask2 = masking.make_mask(ds2[quality_band], **good_pixel_flags2)\n",
    "ds2.update(ds2 * 0.0000275 + -0.2)\n",
    "ndvi2 = (ds2.nir08 - ds2.red) / (ds2.nir08  + ds2.red ).where(cloud_free_mask2)\n",
    "ndvix = xr.concat([ndvi, ndvi2], dim='time')"
   ]
  },
  {
   "cell_type": "code",
   "execution_count": 44,
   "id": "7c6df327-2997-4794-b068-f06c563a9bc8",
   "metadata": {
    "tags": []
   },
   "outputs": [
    {
     "data": {
      "image/png": "[encoded data removed]",
      "text/plain": [
       "<Figure size 640x480 with 1 Axes>"
      ]
     },
     "metadata": {},
     "output_type": "display_data"
    }
   ],
   "source": [
    "plt.scatter(ndvix.time.values, ndvix.isel(x=5, y=5))\n",
    "plt.show()"
   ]
  },
  {
   "cell_type": "code",
   "execution_count": 45,
   "id": "a295f740-ea36-49cf-ad0d-9a82095868de",
   "metadata": {
    "tags": []
   },
   "outputs": [
    {
     "data": {
      "text/plain": [
       "<matplotlib.collections.QuadMesh at 0x7f160867fe20>"
      ]
     },
     "execution_count": 45,
     "metadata": {},
     "output_type": "execute_result"
    },
    {
     "data": {
      "image/png": "[encoded data removed]",
      "text/plain": [
       "<Figure size 640x480 with 2 Axes>"
      ]
     },
     "metadata": {},
     "output_type": "display_data"
    }
   ],
   "source": [
    "ndvix.isel(time=100).plot()"
   ]
  },
  {
   "cell_type": "code",
   "execution_count": 25,
   "id": "9513aed8-8286-4cf7-8efc-634fefd7a8b9",
   "metadata": {
    "tags": []
   },
   "outputs": [],
   "source": [
    "chunks = ndvix.chunk({'x':50, 'y':50, 'time':len(ndvix.time.values)})\n",
    "output1 = xr.apply_ufunc(bkps2dates2, \n",
    "                         chunks, \n",
    "                         ndvix.time.values,\n",
    "                         input_core_dims=[['time'], ['time']],\n",
    "                         output_core_dims=[['new']],\n",
    "                         exclude_dims=set((\"time\",)),\n",
    "                         output_sizes={'new':15},\n",
    "                         vectorize=True,\n",
    "                         output_dtypes=[ndvix.dtype],\n",
    "                        # output_sizes={'size':5},\n",
    "                         # dask='allowed')\n",
    "                         dask='parallelized')\n",
    "\n",
    "out = output1.compute()\n",
    "dates, bks, mags = out.isel(new=range(5)), out.isel(new=range(5,10)), out.isel(new=range(10,15))\n",
    "dates.attrs = ds.attrs\n",
    "meta = {'driver': 'GTiff',\n",
    "        'dtype': 'float32',\n",
    "        'width':dates.shape[1], \n",
    "        'height':dates.shape[0],\n",
    "        'count':5,\n",
    "        'crs':ds.crs,\n",
    "        'transform':ds.affine\n",
    "       }\n",
    "with rasterio.open('geo_bkstala_{}.tif'.format('test3'), 'w', **meta) as dst:\n",
    "    dst.write(np.moveaxis(dates.values, 2, 0))\n",
    "with rasterio.open('geo_magtala_{}.tif'.format('test3'), 'w', **meta) as dst:\n",
    "    dst.write(np.moveaxis(mags.values, 2, 0))\n",
    "del dc, ds, ds2, cloud_free_mask1, cloud_free_mask2, ndvi, ndvi2, ndvix, chunks, output1, out, dates, bks, mags, meta"
   ]
  }
 ],
 "metadata": {
  "kernelspec": {
   "display_name": "Python 3 (ipykernel)",
   "language": "python",
   "name": "python3"
  },
  "language_info": {
   "codemirror_mode": {
    "name": "ipython",
    "version": 3
   },
   "file_extension": ".py",
   "mimetype": "text/x-python",
   "name": "python",
   "nbconvert_exporter": "python",
   "pygments_lexer": "ipython3",
   "version": "3.7.8"
  }
 },
 "nbformat": 4,
 "nbformat_minor": 5
}
