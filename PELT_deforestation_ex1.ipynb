{
  "nbformat": 4,
  "nbformat_minor": 0,
  "metadata": {
    "colab": {
      "provenance": [],
      "authorship_tag": "ABX9TyNM0Ch5e20gU97WE8B5LVts",
      "include_colab_link": true
    },
    "kernelspec": {
      "name": "python3",
      "display_name": "Python 3"
    },
    "language_info": {
      "name": "python"
    }
  },
  "cells": [
    {
      "cell_type": "markdown",
      "metadata": {
        "id": "view-in-github",
        "colab_type": "text"
      },
      "source": [
        "<a href=\"https://colab.research.google.com/github/IFuentesSR/SAMSARA_UAI/blob/main/PELT_deforestation_ex1.ipynb\" target=\"_parent\"><img src=\"https://colab.research.google.com/assets/colab-badge.svg\" alt=\"Open In Colab\"/></a>"
      ]
    },
    {
      "cell_type": "code",
      "execution_count": 1,
      "metadata": {
        "id": "Izf42DIpTxmo"
      },
      "outputs": [],
      "source": [
        "# Import, authenticate and initialize the Earth Engine library.\n",
        "import ee\n",
        "ee.Authenticate()\n",
        "ee.Initialize(project='xxx') #need initialize credentials"
      ]
    },
    {
      "cell_type": "code",
      "source": [
        "!pip install ruptures"
      ],
      "metadata": {
        "colab": {
          "base_uri": "https://localhost:8080/"
        },
        "id": "tM1SAAyJXZX1",
        "outputId": "efb7fb2c-aec2-423a-c46f-3ed854f562c1"
      },
      "execution_count": 2,
      "outputs": [
        {
          "output_type": "stream",
          "name": "stdout",
          "text": [
            "Collecting ruptures\n",
            "  Downloading ruptures-1.1.9-cp310-cp310-manylinux_2_17_x86_64.manylinux2014_x86_64.whl (1.2 MB)\n",
            "\u001b[2K     \u001b[90m━━━━━━━━━━━━━━━━━━━━━━━━━━━━━━━━━━━━━━━━\u001b[0m \u001b[32m1.2/1.2 MB\u001b[0m \u001b[31m7.2 MB/s\u001b[0m eta \u001b[36m0:00:00\u001b[0m\n",
            "\u001b[?25hRequirement already satisfied: numpy in /usr/local/lib/python3.10/dist-packages (from ruptures) (1.25.2)\n",
            "Requirement already satisfied: scipy in /usr/local/lib/python3.10/dist-packages (from ruptures) (1.11.4)\n",
            "Installing collected packages: ruptures\n",
            "Successfully installed ruptures-1.1.9\n"
          ]
        }
      ]
    },
    {
      "cell_type": "code",
      "source": [
        "# Folium setup.\n",
        "import ruptures as rpt\n",
        "import folium\n",
        "import sys\n",
        "import math\n",
        "import re\n",
        "import numpy as np\n",
        "import pandas as pd\n",
        "import time\n",
        "from multiprocessing import Pool\n",
        "import itertools\n",
        "import datetime\n",
        "import matplotlib.pyplot as plt\n",
        "from scipy import interpolate, stats\n",
        "import plotly.express as px\n",
        "from collections import Counter\n",
        "import scipy.ndimage as ndimage\n",
        "from sklearn.metrics import precision_score, recall_score, f1_score, accuracy_score\n",
        "\n",
        "\n",
        "\n",
        "print(folium.__version__)"
      ],
      "metadata": {
        "colab": {
          "base_uri": "https://localhost:8080/"
        },
        "id": "bHVqsaEWXbuJ",
        "outputId": "3144a94b-6c88-476f-b351-2ec46510e181"
      },
      "execution_count": 12,
      "outputs": [
        {
          "output_type": "stream",
          "name": "stdout",
          "text": [
            "0.14.0\n"
          ]
        }
      ]
    },
    {
      "cell_type": "code",
      "source": [
        "def mask(img):\n",
        "    qua = ee.Image(img).select('QA_PIXEL')\n",
        "    props = img.propertyNames()\n",
        "    fill = qua.bitwiseAnd(1).eq(0)\n",
        "    dilated = qua.bitwiseAnd(2).eq(0)\n",
        "    cirrus = qua.bitwiseAnd(4).eq(0)\n",
        "    clouds = qua.bitwiseAnd(8).eq(0)\n",
        "    shadows = qua.bitwiseAnd(16).eq(0)\n",
        "    snow = qua.bitwiseAnd(32).eq(0)\n",
        "    return img.updateMask(dilated).updateMask(cirrus).updateMask(clouds).updateMask(shadows).updateMask(snow).updateMask(fill).multiply(0.0000275).add(-0.2).copyProperties(img, props)\n",
        "\n",
        "\n",
        "def ndvil8(img):\n",
        "    props = img.propertyNames()\n",
        "    ix = img.normalizedDifference(['SR_B5', 'SR_B4'])\n",
        "    ix = ix.updateMask(ix.gt(0))\n",
        "    return img.addBands(ix.rename('ndvi')).copyProperties(img, props)\n",
        "\n",
        "\n",
        "def ndvil57(img):\n",
        "    props = img.propertyNames()\n",
        "    ix = img.normalizedDifference(['SR_B4', 'SR_B3'])\n",
        "    ix = ix.updateMask(ix.gt(0))\n",
        "    return img.addBands(ix.rename('ndvi')).copyProperties(img, props)\n",
        "\n",
        "\n",
        "def get_date(x):\n",
        "    return ee.Date(x).format('YYYY-MM-dd')\n",
        "\n",
        "\n",
        "def mosaicking(collection):\n",
        "    def inner(date):\n",
        "        coll = collection.select('ndvi').filterDate(ee.Date(date), ee.Date(date).advance(1, 'day'))\n",
        "        img = ee.Image(coll.first())\n",
        "        props = img.propertyNames()\n",
        "        return ee.Image(-99.).where(coll.mosaic().gte(-1), coll.mosaic())\n",
        "    return inner\n",
        "\n",
        "\n",
        "def getting_mean(collection):\n",
        "    def inner(date):\n",
        "        coll = collection.filterDate(ee.Date(date), ee.Date(date).advance(1, 'day'))\n",
        "        img = coll.first()\n",
        "        # props = img.propertyNames()\n",
        "        # return img.copyProperties(coll.first(), props)\n",
        "        return img\n",
        "    return inner\n",
        "\n",
        "\n",
        "def set_id(fea):\n",
        "    return fea.set('id', fea.id())\n",
        "\n",
        "\n",
        "def to_year(img):\n",
        "    year2000 = 730485\n",
        "    year = img.subtract(year2000).divide(365)\n",
        "    return ee.Image(2000).add(ee.Image(year))\n",
        "\n",
        "\n",
        "def resample(target):\n",
        "    def inner(img):\n",
        "        return img.reproject(ee.Image(target).select('ndvi').projection())\n",
        "    return inner\n",
        "\n",
        "\n",
        "def sample(geo):\n",
        "    def inner(img):\n",
        "        date = ee.Date(img.get('system:time_start')).format('YYYY-MM-dd')\n",
        "        ndvi = img.reduceRegion('mean', geo.geometry(), scale=30).values().get(0)\n",
        "        return ee.Feature(None, {'date':date, 'ndvi':ndvi})\n",
        "    return inner\n",
        "\n",
        "\n",
        "def sampleS2(geo):\n",
        "    def inner(img):\n",
        "        date = ee.Date(img.get('system:time_start')).format('YYYY-MM-dd')\n",
        "        ndvi = img.reduceRegion('mean', geo.geometry(), scale=10).values().get(0)\n",
        "        return ee.Feature(None, {'date':date, 'ndvi':ndvi})\n",
        "    return inner"
      ],
      "metadata": {
        "id": "fKS502NDXhhe"
      },
      "execution_count": 4,
      "outputs": []
    },
    {
      "cell_type": "code",
      "source": [
        "import datetime\n",
        "\n",
        "\n",
        "def get_days(df):\n",
        "    '''converts breaks to days from 2016-01-01'''\n",
        "    return lambda x: (df.loc[x]['date'] - pd.to_datetime('2000-01-01')).days + 0.0 if x > 0 else np.nan\n",
        "\n",
        "\n",
        "def bkps2dates(array, df_dates):\n",
        "    df_array = pd.DataFrame(index=df_dates.date.values, data={'ndvi':array, 'ix':df_dates['ix'].values})\n",
        "    df_array2 = df_array.dropna(how='any')\n",
        "    model = 'rbf' #\"l1\", \"l2\", \"rbf\"\n",
        "    algo = rpt.KernelCPD(kernel=model, min_size=3, jump=5).fit(df_array2['ndvi'].values)\n",
        "    my_bkps = algo.predict(pen=40)\n",
        "    if len(my_bkps) > 1:\n",
        "        return df_array2.reset_index().iloc[my_bkps[-2]-1]['ix'], df_array2.reset_index().iloc[my_bkps[-2]-1]['index']\n",
        "    else:\n",
        "        return np.nan, pd.to_datetime('1900-01-01')\n",
        "\n",
        "\n",
        "def bkps2dates2(array, df_dates, pen):\n",
        "    df_array = pd.DataFrame(index=df_dates.date.values, data={'ndvi':array, 'ix':df_dates['ix'].values})\n",
        "    df_array2 = df_array.dropna(how='any')\n",
        "    model = 'rbf' #\"l1\", \"l2\", \"rbf\"\n",
        "    algo = rpt.KernelCPD(kernel=model, min_size=3, jump=5).fit(df_array2['ndvi'].values)\n",
        "    my_bkps = algo.predict(pen=pen)\n",
        "    my_bkps = my_bkps[:-1]\n",
        "    my_bkps = [n-1 for n in my_bkps]\n",
        "    df3 = df_array2.reset_index()\n",
        "    df3 = df3[df3['index'] > '2016-01-01']\n",
        "    my_bkps = list(set(my_bkps).intersection(df3.index.tolist()))\n",
        "    if len(df3.loc[my_bkps]) >= 1:\n",
        "        days = [(df3.loc[n]['index'] - pd.to_datetime('1900-01-01')).days for n in my_bkps]\n",
        "        arr = np.full((5,1),np.nan)\n",
        "        arr[:len(days)] = np.array(days).reshape(-1, 1)\n",
        "        bks = [df3.loc[n]['ix'] for n in my_bkps]# if (n.index - pd.to_datetime('1900-01-01')).days > 42368]\n",
        "        a = np.full((5, 1), np.nan)\n",
        "        a[:len(bks)] = np.array(bks).reshape(-1, 1)\n",
        "        return a, arr\n",
        "    else:\n",
        "        return np.full((5, 1), np.nan), np.full((5, 1), np.nan)\n",
        "\n",
        "\n",
        "def masking_breaks(dates_df, breaks, dates, threshold):\n",
        "    date_bks = np.sort(list(set(np.sort([(dates_df.set_index('ix').loc[n]['date'] - pd.to_datetime('1900-01-01')).days for n in np.sort(np.unique(breaks)[:-1])]))))\n",
        "    mask_bks = [(((dates >= n - 30) & (dates <= n))).astype(int).max(axis=0) for n in date_bks]\n",
        "    date_changes = [np.max((dates == n).astype(int) * n, axis=0) for n in date_bks]\n",
        "    cumm_msk = [ndimage.convolve(n, np.ones((50,50)), mode='constant') * n for n in mask_bks]\n",
        "    masked_dates = [n * (cumm_msk[i] < threshold).astype(int) for i, n in enumerate(date_changes)]\n",
        "    return masked_dates"
      ],
      "metadata": {
        "id": "EdG4e9oZbB-S"
      },
      "execution_count": 14,
      "outputs": []
    },
    {
      "cell_type": "code",
      "source": [
        "forested = ee.FeatureCollection('users/ignaciofuentessanroman/IWF_forests').map(set_id)\n",
        "deforested = ee.FeatureCollection('users/ignaciofuentessanroman/IWF_deforestation').map(set_id)\n",
        "\n",
        "ids_forested = forested.aggregate_array('id').distinct().getInfo()\n",
        "ids_deforested = deforested.aggregate_array('id').distinct().getInfo()"
      ],
      "metadata": {
        "id": "Pk_HPECoX6Wb"
      },
      "execution_count": 5,
      "outputs": []
    },
    {
      "cell_type": "code",
      "source": [
        "fea = deforested.filter(ee.Filter.eq('id', '00000000000000000012')).first()\n",
        "\n",
        "l8 = ee.ImageCollection(\"LANDSAT/LC08/C02/T1_L2\").filterBounds(fea.geometry()).map(mask).map(ndvil8)\n",
        "l9 = ee.ImageCollection(\"LANDSAT/LC09/C02/T1_L2\").filterBounds(fea.geometry()).map(mask).map(ndvil8)"
      ],
      "metadata": {
        "id": "ScyPDBa9YBXU"
      },
      "execution_count": 7,
      "outputs": []
    },
    {
      "cell_type": "code",
      "source": [
        "geo = ee.Feature(fea)\n",
        "id = geo.getMapId()\n",
        "l8_2016 = l8.filterDate('2016-01-01', '2017-01-01').mean().getMapId({'bands':['SR_B5', 'SR_B4', 'SR_B3'], 'min': 0, 'max': 0.3})\n",
        "l8_2021 = l9.filterDate('2021-01-01', '2022-01-01').mean().getMapId({'bands':['SR_B5', 'SR_B4', 'SR_B3'], 'min': 0, 'max': 0.3})\n",
        "centroid = geo.centroid().getInfo()['geometry']['coordinates'][::-1]\n",
        "map = folium.Map(location=centroid, zoom_start=16)\n",
        "folium.TileLayer(\n",
        "    tiles=l8_2016['tile_fetcher'].url_format,\n",
        "    attr='Map Data © Google Earth Engine',\n",
        "    overlay=True,\n",
        "    name='s2_2018',\n",
        "  ).add_to(map)\n",
        "folium.TileLayer(\n",
        "    tiles=l8_2021['tile_fetcher'].url_format,\n",
        "    attr='Map Data © Google Earth Engine',\n",
        "    overlay=True,\n",
        "    name='s2_2021',\n",
        "  ).add_to(map)\n",
        "folium.TileLayer(\n",
        "    tiles=id['tile_fetcher'].url_format,\n",
        "    attr='Map Data © Google Earth Engine',\n",
        "    overlay=True,\n",
        "    name='feature',\n",
        "  ).add_to(map)\n",
        "map.add_child(folium.LayerControl())\n",
        "map"
      ],
      "metadata": {
        "colab": {
          "base_uri": "https://localhost:8080/",
          "height": 968
        },
        "id": "cAVAa3MnZbeO",
        "outputId": "145598c6-d2da-4d38-db94-954ffdc13393"
      },
      "execution_count": 8,
      "outputs": [
        {
          "output_type": "execute_result",
          "data": {
            "text/plain": [
              "<folium.folium.Map at 0x7f14d92fae30>"
            ],
            "text/html": [
              "<div style=\"width:100%;\"><div style=\"position:relative;width:100%;height:0;padding-bottom:60%;\"><span style=\"color:#565656\">Make this Notebook Trusted to load map: File -> Trust Notebook</span><iframe srcdoc=\"&lt;!DOCTYPE html&gt;\n",
              "&lt;html&gt;\n",
              "&lt;head&gt;\n",
              "    \n",
              "    &lt;meta http-equiv=&quot;content-type&quot; content=&quot;text/html; charset=UTF-8&quot; /&gt;\n",
              "    \n",
              "        &lt;script&gt;\n",
              "            L_NO_TOUCH = false;\n",
              "            L_DISABLE_3D = false;\n",
              "        &lt;/script&gt;\n",
              "    \n",
              "    &lt;style&gt;html, body {width: 100%;height: 100%;margin: 0;padding: 0;}&lt;/style&gt;\n",
              "    &lt;style&gt;#map {position:absolute;top:0;bottom:0;right:0;left:0;}&lt;/style&gt;\n",
              "    &lt;script src=&quot;https://cdn.jsdelivr.net/npm/leaflet@1.9.3/dist/leaflet.js&quot;&gt;&lt;/script&gt;\n",
              "    &lt;script src=&quot;https://code.jquery.com/jquery-1.12.4.min.js&quot;&gt;&lt;/script&gt;\n",
              "    &lt;script src=&quot;https://cdn.jsdelivr.net/npm/bootstrap@5.2.2/dist/js/bootstrap.bundle.min.js&quot;&gt;&lt;/script&gt;\n",
              "    &lt;script src=&quot;https://cdnjs.cloudflare.com/ajax/libs/Leaflet.awesome-markers/2.0.2/leaflet.awesome-markers.js&quot;&gt;&lt;/script&gt;\n",
              "    &lt;link rel=&quot;stylesheet&quot; href=&quot;https://cdn.jsdelivr.net/npm/leaflet@1.9.3/dist/leaflet.css&quot;/&gt;\n",
              "    &lt;link rel=&quot;stylesheet&quot; href=&quot;https://cdn.jsdelivr.net/npm/bootstrap@5.2.2/dist/css/bootstrap.min.css&quot;/&gt;\n",
              "    &lt;link rel=&quot;stylesheet&quot; href=&quot;https://netdna.bootstrapcdn.com/bootstrap/3.0.0/css/bootstrap.min.css&quot;/&gt;\n",
              "    &lt;link rel=&quot;stylesheet&quot; href=&quot;https://cdn.jsdelivr.net/npm/@fortawesome/fontawesome-free@6.2.0/css/all.min.css&quot;/&gt;\n",
              "    &lt;link rel=&quot;stylesheet&quot; href=&quot;https://cdnjs.cloudflare.com/ajax/libs/Leaflet.awesome-markers/2.0.2/leaflet.awesome-markers.css&quot;/&gt;\n",
              "    &lt;link rel=&quot;stylesheet&quot; href=&quot;https://cdn.jsdelivr.net/gh/python-visualization/folium/folium/templates/leaflet.awesome.rotate.min.css&quot;/&gt;\n",
              "    \n",
              "            &lt;meta name=&quot;viewport&quot; content=&quot;width=device-width,\n",
              "                initial-scale=1.0, maximum-scale=1.0, user-scalable=no&quot; /&gt;\n",
              "            &lt;style&gt;\n",
              "                #map_a5e76d44f64f4e1c867163ff0e23832f {\n",
              "                    position: relative;\n",
              "                    width: 100.0%;\n",
              "                    height: 100.0%;\n",
              "                    left: 0.0%;\n",
              "                    top: 0.0%;\n",
              "                }\n",
              "                .leaflet-container { font-size: 1rem; }\n",
              "            &lt;/style&gt;\n",
              "        \n",
              "&lt;/head&gt;\n",
              "&lt;body&gt;\n",
              "    \n",
              "    \n",
              "            &lt;div class=&quot;folium-map&quot; id=&quot;map_a5e76d44f64f4e1c867163ff0e23832f&quot; &gt;&lt;/div&gt;\n",
              "        \n",
              "&lt;/body&gt;\n",
              "&lt;script&gt;\n",
              "    \n",
              "    \n",
              "            var map_a5e76d44f64f4e1c867163ff0e23832f = L.map(\n",
              "                &quot;map_a5e76d44f64f4e1c867163ff0e23832f&quot;,\n",
              "                {\n",
              "                    center: [-33.08967549123749, -71.5880974653837],\n",
              "                    crs: L.CRS.EPSG3857,\n",
              "                    zoom: 16,\n",
              "                    zoomControl: true,\n",
              "                    preferCanvas: false,\n",
              "                }\n",
              "            );\n",
              "\n",
              "            \n",
              "\n",
              "        \n",
              "    \n",
              "            var tile_layer_eec5f3a4b273524cc2f5f3e6312efc9b = L.tileLayer(\n",
              "                &quot;https://{s}.tile.openstreetmap.org/{z}/{x}/{y}.png&quot;,\n",
              "                {&quot;attribution&quot;: &quot;Data by \\u0026copy; \\u003ca target=\\&quot;_blank\\&quot; href=\\&quot;http://openstreetmap.org\\&quot;\\u003eOpenStreetMap\\u003c/a\\u003e, under \\u003ca target=\\&quot;_blank\\&quot; href=\\&quot;http://www.openstreetmap.org/copyright\\&quot;\\u003eODbL\\u003c/a\\u003e.&quot;, &quot;detectRetina&quot;: false, &quot;maxNativeZoom&quot;: 18, &quot;maxZoom&quot;: 18, &quot;minZoom&quot;: 0, &quot;noWrap&quot;: false, &quot;opacity&quot;: 1, &quot;subdomains&quot;: &quot;abc&quot;, &quot;tms&quot;: false}\n",
              "            ).addTo(map_a5e76d44f64f4e1c867163ff0e23832f);\n",
              "        \n",
              "    \n",
              "            var tile_layer_391b3cce5421e59131948d334aff4f38 = L.tileLayer(\n",
              "                &quot;https://earthengine.googleapis.com/v1/projects/upbeat-imprint-269809/maps/e781e4a0492ec985643419eb3b547937-d5740a7b77048b9bef4c8a0967b89ea5/tiles/{z}/{x}/{y}&quot;,\n",
              "                {&quot;attribution&quot;: &quot;Map Data \\u00a9 Google Earth Engine&quot;, &quot;detectRetina&quot;: false, &quot;maxNativeZoom&quot;: 18, &quot;maxZoom&quot;: 18, &quot;minZoom&quot;: 0, &quot;noWrap&quot;: false, &quot;opacity&quot;: 1, &quot;subdomains&quot;: &quot;abc&quot;, &quot;tms&quot;: false}\n",
              "            ).addTo(map_a5e76d44f64f4e1c867163ff0e23832f);\n",
              "        \n",
              "    \n",
              "            var tile_layer_d0cf8e863e6294b4a0cdb89ac5c7c77a = L.tileLayer(\n",
              "                &quot;https://earthengine.googleapis.com/v1/projects/upbeat-imprint-269809/maps/7101e182b8c5b3c6091fdcf5f1209ae3-c04e32479be0fbee40a85640959b15a7/tiles/{z}/{x}/{y}&quot;,\n",
              "                {&quot;attribution&quot;: &quot;Map Data \\u00a9 Google Earth Engine&quot;, &quot;detectRetina&quot;: false, &quot;maxNativeZoom&quot;: 18, &quot;maxZoom&quot;: 18, &quot;minZoom&quot;: 0, &quot;noWrap&quot;: false, &quot;opacity&quot;: 1, &quot;subdomains&quot;: &quot;abc&quot;, &quot;tms&quot;: false}\n",
              "            ).addTo(map_a5e76d44f64f4e1c867163ff0e23832f);\n",
              "        \n",
              "    \n",
              "            var tile_layer_c30a66ced5e926d611258cb971569763 = L.tileLayer(\n",
              "                &quot;https://earthengine.googleapis.com/v1/projects/upbeat-imprint-269809/maps/ecad512fc1daf84cf4ed98c755708459-c7d3ad969ccb5bb2f70ddc78ce436ecd/tiles/{z}/{x}/{y}&quot;,\n",
              "                {&quot;attribution&quot;: &quot;Map Data \\u00a9 Google Earth Engine&quot;, &quot;detectRetina&quot;: false, &quot;maxNativeZoom&quot;: 18, &quot;maxZoom&quot;: 18, &quot;minZoom&quot;: 0, &quot;noWrap&quot;: false, &quot;opacity&quot;: 1, &quot;subdomains&quot;: &quot;abc&quot;, &quot;tms&quot;: false}\n",
              "            ).addTo(map_a5e76d44f64f4e1c867163ff0e23832f);\n",
              "        \n",
              "    \n",
              "            var layer_control_92ac1808b3e60b2ef31fe08769b207e0 = {\n",
              "                base_layers : {\n",
              "                    &quot;openstreetmap&quot; : tile_layer_eec5f3a4b273524cc2f5f3e6312efc9b,\n",
              "                },\n",
              "                overlays :  {\n",
              "                    &quot;s2_2018&quot; : tile_layer_391b3cce5421e59131948d334aff4f38,\n",
              "                    &quot;s2_2021&quot; : tile_layer_d0cf8e863e6294b4a0cdb89ac5c7c77a,\n",
              "                    &quot;feature&quot; : tile_layer_c30a66ced5e926d611258cb971569763,\n",
              "                },\n",
              "            };\n",
              "            L.control.layers(\n",
              "                layer_control_92ac1808b3e60b2ef31fe08769b207e0.base_layers,\n",
              "                layer_control_92ac1808b3e60b2ef31fe08769b207e0.overlays,\n",
              "                {&quot;autoZIndex&quot;: true, &quot;collapsed&quot;: true, &quot;position&quot;: &quot;topright&quot;}\n",
              "            ).addTo(map_a5e76d44f64f4e1c867163ff0e23832f);\n",
              "        \n",
              "&lt;/script&gt;\n",
              "&lt;/html&gt;\" style=\"position:absolute;width:100%;height:100%;left:0;top:0;border:none !important;\" allowfullscreen webkitallowfullscreen mozallowfullscreen></iframe></div></div>"
            ]
          },
          "metadata": {},
          "execution_count": 8
        }
      ]
    },
    {
      "cell_type": "code",
      "source": [
        "paths = l8.aggregate_histogram('WRS_PATH').getInfo()\n",
        "path = [i for i in paths if paths[i]==sorted(paths.values())[-1]][0]\n",
        "l8 = l8.filter(ee.Filter.eq('WRS_PATH', float(path)))\n",
        "l9 = l9.filter(ee.Filter.eq('WRS_PATH', float(path)))\n",
        "l7 = ee.ImageCollection(\"LANDSAT/LE07/C02/T1_L2\").filterBounds(fea.geometry()).filterDate('2000-01-01', '2023-01-01').filter(ee.Filter.eq('WRS_PATH', float(path))).map(mask).map(ndvil57)\n",
        "l5 = ee.ImageCollection(\"LANDSAT/LT05/C02/T1_L2\").filterBounds(fea.geometry()).filterDate('2000-01-01', '2023-01-01').filter(ee.Filter.eq('WRS_PATH', float(path))).map(mask).map(ndvil57)\n",
        "\n",
        "landsat = l9.merge(l8).merge(l7).merge(l5).select('ndvi').sort('system:time_start').filterDate('2000-01-01', '2022-06-01')"
      ],
      "metadata": {
        "id": "Ge017ynlZenZ"
      },
      "execution_count": 9,
      "outputs": []
    },
    {
      "cell_type": "code",
      "source": [
        "data = landsat.map(sample(fea)).getInfo()\n",
        "dates = [pd.to_datetime(n['properties']['date']) for n in data['features']]\n",
        "ndvi = [n['properties']['ndvi'] if 'ndvi' in n['properties'] else None for n in data['features']]\n",
        "df = pd.DataFrame(index=dates, data={'ndvi':ndvi, 'date':dates, 'ix':range(len(ndvi))})\n",
        "df = df.dropna(how='any')"
      ],
      "metadata": {
        "id": "vJDIpC-_Zzi-"
      },
      "execution_count": 61,
      "outputs": []
    },
    {
      "cell_type": "code",
      "source": [
        "my_bkps = bkps2dates2(df['ndvi'], df, 30)"
      ],
      "metadata": {
        "id": "v3cJIC1SpeJi"
      },
      "execution_count": 60,
      "outputs": []
    },
    {
      "cell_type": "code",
      "source": [
        "fig = plt.figure(figsize=(10,4))\n",
        "plt.scatter(dates, ndvi)\n",
        "plt.xlim(pd.to_datetime('2000-01-01'), pd.to_datetime('2022-06-01'))\n",
        "for n in my_bkps[0]:\n",
        "    if len(df.loc[df['ix'] == n[0]]['date'].values) > 0:\n",
        "        plt.axvline(x=df.loc[df['ix'] == n[0]]['date'].values[0], color='g')\n",
        "\n",
        "plt.grid()\n",
        "plt.ylabel('NDVI', fontsize=16)\n",
        "plt.tick_params(axis='both', labelsize=14)\n",
        "plt.show()"
      ],
      "metadata": {
        "colab": {
          "base_uri": "https://localhost:8080/",
          "height": 373
        },
        "id": "5RxHgH-Tpeu2",
        "outputId": "49b1869d-dbbc-447a-d341-196ed33cb254"
      },
      "execution_count": 59,
      "outputs": [
        {
          "output_type": "display_data",
          "data": {
            "text/plain": [
              "<Figure size 1000x400 with 1 Axes>"
            ],
            "image/png": "[encoded data removed]"
          },
          "metadata": {}
        }
      ]
    },
    {
      "cell_type": "code",
      "source": [
        "stack = landsat.toBands().toFloat().sampleRectangle(fea.geometry().bounds().buffer(300), defaultValue=-99.).getInfo()\n",
        "imgs = [n for n in stack['properties']]\n",
        "dates_imgs = [pd.to_datetime(re.findall('\\d{8}', n)[0], format='%Y%m%d') for n in imgs]\n",
        "df_dates = pd.DataFrame(data={'date':dates_imgs, 'ix':range(len(dates_imgs))})\n",
        "df_dates = df_dates.sort_values('date')\n",
        "ix_anom = df_dates.reset_index()[df_dates.reset_index()['date'] > '2016-01-01'].index[0]\n",
        "reorder_ix = df_dates['ix'].values\n",
        "reorder_imgs = [imgs[n] for n in reorder_ix]\n",
        "stacked = np.stack([stack['properties'][n] for n in reorder_imgs])\n",
        "stacked[stacked < 0] = np.nan\n",
        "bks, dates = np.apply_along_axis(bkps2dates2, 0, stacked, df_dates, 30)\n",
        "bks = bks.reshape(5, stacked.shape[1], stacked.shape[2])\n",
        "dates = dates.reshape(5, stacked.shape[1], stacked.shape[2])"
      ],
      "metadata": {
        "id": "x93fgpkoqC3C"
      },
      "execution_count": 70,
      "outputs": []
    },
    {
      "cell_type": "code",
      "source": [
        "values = np.unique((dates/365 + 1900)[0,:,:])[:-1]\n",
        "values = np.linspace(np.min(values), np.max(values), 4)\n",
        "coords = np.array(fea.geometry().bounds().buffer(300).coordinates().getInfo())[0, :, :]\n",
        "longs = coords[:, 0]\n",
        "lats = coords[:, 1]"
      ],
      "metadata": {
        "id": "wLxONQYUvrKD"
      },
      "execution_count": 82,
      "outputs": []
    },
    {
      "cell_type": "code",
      "source": [
        "fig, ax = plt.subplots()\n",
        "f1 = ax.imshow((dates/365 + 1900)[0,:,:],\n",
        "               vmin=np.nanmin((dates/365 + 1900)[0,:,:]),\n",
        "               vmax=np.nanmax((dates/365 + 1900)[0,:,:]))\n",
        "cb = fig.colorbar(f1, ticks=values)\n",
        "cb.ax.set_yticklabels([round(n, 2) for n in values])\n",
        "plt.xticks([0, 5, 10, 15, 20, 25], labels=np.round(np.linspace(np.min(longs), np.max(longs), 6), 4))\n",
        "plt.yticks([0, 5, 10, 15, 20, 25], labels=np.round(np.linspace(np.max(lats), np.min(lats), 6), 4))\n",
        "plt.tick_params(axis='x', rotation=30)\n",
        "plt.show()"
      ],
      "metadata": {
        "colab": {
          "base_uri": "https://localhost:8080/",
          "height": 465
        },
        "id": "-Q0ddMNsqlLU",
        "outputId": "d8454dda-5ec9-4e7b-889f-b7e8726cd3d0"
      },
      "execution_count": 85,
      "outputs": [
        {
          "output_type": "display_data",
          "data": {
            "text/plain": [
              "<Figure size 640x480 with 2 Axes>"
            ],
            "image/png": "[encoded data removed]"
          },
          "metadata": {}
        }
      ]
    },
    {
      "cell_type": "markdown",
      "source": [
        "##*ToDo*\n",
        "Implement break magnitudes"
      ],
      "metadata": {
        "id": "V30VbGVNx6z_"
      }
    },
    {
      "cell_type": "code",
      "source": [],
      "metadata": {
        "id": "vgpQC4kdyDeV"
      },
      "execution_count": null,
      "outputs": []
    }
  ]
}